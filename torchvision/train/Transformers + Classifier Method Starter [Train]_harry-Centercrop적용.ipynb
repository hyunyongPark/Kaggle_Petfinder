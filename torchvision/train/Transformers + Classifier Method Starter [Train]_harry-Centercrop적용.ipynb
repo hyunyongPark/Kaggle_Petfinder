{
 "cells": [
  {
   "cell_type": "markdown",
   "id": "controlling-manchester",
   "metadata": {},
   "source": [
    "Reference : https://www.kaggle.com/manabendrarout/transformers-classifier-method-starter-train"
   ]
  },
  {
   "cell_type": "markdown",
   "id": "adolescent-russell",
   "metadata": {},
   "source": [
    "### Imports"
   ]
  },
  {
   "cell_type": "code",
   "execution_count": 1,
   "id": "banner-croatia",
   "metadata": {},
   "outputs": [
    {
     "name": "stdout",
     "output_type": "stream",
     "text": [
      "Using device: cuda:1\n"
     ]
    }
   ],
   "source": [
    "import sys\n",
    "sys.path.append('../pytorch-image-models/pytorch-image-models-master')\n",
    "# Asthetics\n",
    "import warnings\n",
    "import sklearn.exceptions\n",
    "warnings.filterwarnings('ignore', category=DeprecationWarning)\n",
    "warnings.filterwarnings('ignore', category=FutureWarning)\n",
    "warnings.filterwarnings(\"ignore\", category=sklearn.exceptions.UndefinedMetricWarning)\n",
    "\n",
    "# General\n",
    "from tqdm.auto import tqdm\n",
    "from collections import defaultdict\n",
    "import pandas as pd\n",
    "import numpy as np\n",
    "import os\n",
    "import random\n",
    "import gc\n",
    "import cv2\n",
    "import glob\n",
    "import math\n",
    "gc.enable()\n",
    "pd.set_option('display.max_columns', None)\n",
    "\n",
    "# Visialisation\n",
    "import matplotlib.pyplot as plt\n",
    "%matplotlib inline\n",
    "\n",
    "# Image Aug\n",
    "from albumentations.pytorch import ToTensorV2\n",
    "import albumentations as A\n",
    "\n",
    "# import albumentations\n",
    "# from albumentations.pytorch.transforms import ToTensorV2\n",
    "\n",
    "# Deep Learning\n",
    "from torch.utils.data import Dataset, DataLoader\n",
    "from torch.optim.lr_scheduler import CosineAnnealingWarmRestarts, OneCycleLR, CosineAnnealingLR\n",
    "import torch\n",
    "import torchvision\n",
    "import timm\n",
    "import torch.nn as nn\n",
    "import torch.nn.functional as F\n",
    "import torch.optim as optim\n",
    "from torch.optim.optimizer import Optimizer\n",
    "\n",
    "#Metrics\n",
    "from sklearn.metrics import mean_squared_error\n",
    "\n",
    "# Random Seed Initialize\n",
    "RANDOM_SEED = 42\n",
    "\n",
    "def seed_everything(seed=RANDOM_SEED):\n",
    "    os.environ['PYTHONHASHSEED'] = str(seed)\n",
    "    np.random.seed(seed)\n",
    "    random.seed(seed)\n",
    "    torch.manual_seed(seed)\n",
    "    torch.cuda.manual_seed(seed)\n",
    "    torch.backends.cudnn.deterministic = True\n",
    "    torch.backends.cudnn.benchmark = True\n",
    "    \n",
    "seed_everything()\n",
    "\n",
    "# Device Optimization\n",
    "if torch.cuda.is_available():\n",
    "    device = torch.device('cuda:1')\n",
    "else:\n",
    "    device = torch.device('cpu')\n",
    "    \n",
    "print(f'Using device: {device}')"
   ]
  },
  {
   "cell_type": "code",
   "execution_count": 2,
   "id": "comprehensive-nitrogen",
   "metadata": {},
   "outputs": [
    {
     "name": "stdout",
     "output_type": "stream",
     "text": [
      "Train file : /mnt/hdd1/wearly/kaggle/petfinder/data/datasets/pawpular-folds/train_5folds.csv\n",
      "Train file : /mnt/hdd1/wearly/kaggle/petfinder/data/sample_submission.csv\n"
     ]
    }
   ],
   "source": [
    "csv_dir = '/mnt/hdd1/wearly/kaggle/petfinder/data/'\n",
    "train_dir = '/mnt/hdd1/wearly/kaggle/petfinder/data/train/'\n",
    "test_dir = '/mnt/hdd1/wearly/kaggle/petfinder/data/test/'\n",
    "\n",
    "train_file_path = '/mnt/hdd1/wearly/kaggle/petfinder/data/datasets/pawpular-folds/train_5folds.csv'\n",
    "sample_sub_file_path = os.path.join(csv_dir, 'sample_submission.csv')\n",
    "\n",
    "print(f'Train file : {train_file_path}')\n",
    "print(f'Train file : {sample_sub_file_path}')\n",
    "      "
   ]
  },
  {
   "cell_type": "code",
   "execution_count": 3,
   "id": "american-citizenship",
   "metadata": {},
   "outputs": [],
   "source": [
    "train_df = pd.read_csv(train_file_path)\n",
    "test_df = pd.read_csv(sample_sub_file_path)\n",
    "\n",
    "def return_filpath(name, folder=train_dir):\n",
    "    path = os.path.join(folder, f'{name}.jpg')\n",
    "    return path"
   ]
  },
  {
   "cell_type": "code",
   "execution_count": 4,
   "id": "worse-latter",
   "metadata": {},
   "outputs": [],
   "source": [
    "train_df['image_path'] = train_df['Id'].apply(lambda x: return_filpath(x))\n",
    "test_df['image_path'] = test_df['Id'].apply(lambda x: return_filpath(x, folder=test_dir))"
   ]
  },
  {
   "cell_type": "code",
   "execution_count": 5,
   "id": "federal-contact",
   "metadata": {},
   "outputs": [
    {
     "name": "stdout",
     "output_type": "stream",
     "text": [
      "['Subject Focus', 'Eyes', 'Face', 'Near', 'Action', 'Accessory', 'Group', 'Collage', 'Human', 'Occlusion', 'Info', 'Blur']\n"
     ]
    }
   ],
   "source": [
    "target = ['Pawpularity']\n",
    "not_features = ['Id', 'kfold', 'image_path', 'Pawpularity']\n",
    "cols = list(train_df.columns)\n",
    "features = [feat for feat in cols if feat not in not_features]\n",
    "print(features)"
   ]
  },
  {
   "cell_type": "markdown",
   "id": "northern-quantum",
   "metadata": {},
   "source": [
    "### CFG"
   ]
  },
  {
   "cell_type": "code",
   "execution_count": 6,
   "id": "capital-employer",
   "metadata": {},
   "outputs": [],
   "source": [
    "TRAIN_FOLDS = [0,1,2,3,4,5,6,7,8,9]\n",
    "\n",
    "params = {\n",
    "    'model': 'vit_large_patch32_384', #'vit_large_patch32_384'\n",
    "    'dense_features': features,\n",
    "    'pretrained': True,\n",
    "    'inp_channels': 3,\n",
    "    'im_size': 384,\n",
    "    'device': device,\n",
    "    'lr': 1e-5,\n",
    "    'weight_decay': 1e-6,\n",
    "    'batch_size': 16,\n",
    "    'num_workers' : 0,\n",
    "    'epochs': 10,\n",
    "    'out_features': 1,\n",
    "    'dropout': 0.2,\n",
    "    'num_fold': len(TRAIN_FOLDS),\n",
    "    'mixup': False,\n",
    "    'mixup_alpha': 1.0,\n",
    "    'scheduler_name': 'CosineAnnealingWarmRestarts',\n",
    "    'T_0': 5,\n",
    "    'T_max': 5,\n",
    "    'T_mult': 1,\n",
    "    'min_lr': 1e-7,\n",
    "    'max_lr': 1e-4,\n",
    "    'multi-gpu' : False#True\n",
    "}"
   ]
  },
  {
   "cell_type": "markdown",
   "id": "answering-schedule",
   "metadata": {},
   "source": [
    "## 1. Train Augmentations"
   ]
  },
  {
   "cell_type": "code",
   "execution_count": 7,
   "id": "final-space",
   "metadata": {},
   "outputs": [],
   "source": [
    "# def get_train_transforms(DIM = params['im_size']):\n",
    "#     cut = random.randint(230,280) #추가\n",
    "#     p = 0.1\n",
    "    \n",
    "#     return albumentations.Compose(\n",
    "#         [\n",
    "#             albumentations.Resize(DIM,DIM),\n",
    "#             albumentations.Normalize(\n",
    "#                 mean=[0.485, 0.456, 0.406],\n",
    "#                 std=[0.229, 0.224, 0.225],\n",
    "#             ),\n",
    "#             albumentations.ShiftScaleRotate(shift_limit=0.2, scale_limit=0, rotate_limit=0,p=p,border_mode=cv2.INTER_NEAREST), \n",
    "#             albumentations.HorizontalFlip(p=p),\n",
    "#             albumentations.VerticalFlip(p=p),\n",
    "#             albumentations.Rotate(limit=180, p=p),\n",
    "#             albumentations.CoarseDropout(max_holes=1, max_height=30, max_width=30,fill_value=0, p=0.3),\n",
    "# #             albumentations.HueSaturationValue(\n",
    "# #                 hue_shift_limit=0.2, sat_shift_limit=0.2,\n",
    "# #                 val_shift_limit=0.2, p=0.5\n",
    "# #             ),\n",
    "# #             albumentations.RandomBrightnessContrast(\n",
    "# #                 brightness_limit=(-0.1, 0.1),\n",
    "# #                 contrast_limit=(-0.1, 0.1), p=0.5\n",
    "# #             ),\n",
    "#             ToTensorV2(p=1.0),\n",
    "#         ]\n",
    "#     )"
   ]
  },
  {
   "cell_type": "code",
   "execution_count": 8,
   "id": "conceptual-topic",
   "metadata": {},
   "outputs": [],
   "source": [
    "def get_train_transforms(epoch, dim = params['im_size']):\n",
    "    return A.Compose(\n",
    "        [             \n",
    "            # resize like Resize in fastai\n",
    "            A.SmallestMaxSize(max_size=dim, p=1.0),\n",
    "            A.RandomCrop(height=dim, width=dim, p=1.0),\n",
    "            A.VerticalFlip(p = 0.5),\n",
    "            A.HorizontalFlip(p = 0.5)\n",
    "            #A.Normalize(mean=IMAGENET_MEAN, std=IMAGENET_STD)\n",
    "        ]\n",
    "  )\n",
    "\n",
    "def get_inference_fixed_transforms(mode=0, dim = params['im_size']):\n",
    "    if mode == 0: # do not original aspects, colors and angles\n",
    "        return A.Compose([\n",
    "                A.SmallestMaxSize(max_size=dim, p=1.0),\n",
    "                A.CenterCrop(height=dim, width=dim, p=1.0),\n",
    "                #A.Normalize(mean=IMAGENET_MEAN, std=IMAGENET_STD)\n",
    "            ], p=1.0)\n",
    "    elif mode == 1:\n",
    "        return A.Compose([\n",
    "                A.SmallestMaxSize(max_size=dim, p=1.0),\n",
    "                A.CenterCrop(height=dim, width=dim, p=1.0),\n",
    "                #A.Normalize(mean=IMAGENET_MEAN, std=IMAGENET_STD),,\n",
    "                A.VerticalFlip(p = 1.0)\n",
    "            ], p=1.0)    \n",
    "    elif mode == 2:\n",
    "        return A.Compose([\n",
    "                A.SmallestMaxSize(max_size=dim, p=1.0),\n",
    "                A.CenterCrop(height=dim, width=dim, p=1.0),\n",
    "                #A.Normalize(mean=IMAGENET_MEAN, std=IMAGENET_STD),\n",
    "                A.HorizontalFlip(p = 1.0)\n",
    "            ], p=1.0)\n",
    "    elif mode == 3:\n",
    "        return A.Compose([\n",
    "                A.SmallestMaxSize(max_size=dim, p=1.0),\n",
    "                A.CenterCrop(height=dim, width=dim, p=1.0),\n",
    "                #A.Normalize(mean=IMAGENET_MEAN, std=IMAGENET_STD),\n",
    "                A.Transpose(p=1.0)\n",
    "            ], p=1.0)\n",
    "        \n",
    "def get_inference_random_transforms(mode=0, dim = params['im_size']):\n",
    "    if mode == 0: # do not original aspects, colors and angles\n",
    "        return A.Compose([\n",
    "                A.SmallestMaxSize(max_size=dim, p=1.0),\n",
    "                A.CenterCrop(height=dim, width=dim, p=1.0),\n",
    "                #A.Normalize(mean=IMAGENET_MEAN, std=IMAGENET_STD)\n",
    "            ], p=1.0)\n",
    "    else:\n",
    "        return A.Compose(\n",
    "            [            \n",
    "                A.SmallestMaxSize(max_size=dim, p=1.0),\n",
    "                A.CenterCrop(height=dim, width=dim, p=1.0),\n",
    "                A.VerticalFlip(p = 0.5),\n",
    "                A.HorizontalFlip(p = 0.5)\n",
    "                #A.Normalize(mean=IMAGENET_MEAN, std=IMAGENET_STD)\n",
    "            ]\n",
    "      )"
   ]
  },
  {
   "cell_type": "code",
   "execution_count": 9,
   "id": "accomplished-merit",
   "metadata": {},
   "outputs": [],
   "source": [
    "# def get_train_transforms(DIM = params['im_size']):\n",
    "#     return albumentations.Compose(\n",
    "#         [\n",
    "#             albumentations.Resize(DIM,DIM),\n",
    "#             albumentations.Normalize(\n",
    "#                 mean=[0.485, 0.456, 0.406],\n",
    "#                 std=[0.229, 0.224, 0.225],\n",
    "#             ),\n",
    "#             albumentations.HorizontalFlip(p=0.5),\n",
    "#             albumentations.VerticalFlip(p=0.5),\n",
    "#             albumentations.Rotate(limit=180, p=0.7),\n",
    "#             albumentations.ShiftScaleRotate(\n",
    "#                 shift_limit = 0.1, scale_limit=0.1, rotate_limit=45, p=0.5\n",
    "#             ),\n",
    "#             albumentations.HueSaturationValue(\n",
    "#                 hue_shift_limit=0.2, sat_shift_limit=0.2,\n",
    "#                 val_shift_limit=0.2, p=0.5\n",
    "#             ),\n",
    "#             albumentations.RandomBrightnessContrast(\n",
    "#                 brightness_limit=(-0.1, 0.1),\n",
    "#                 contrast_limit=(-0.1, 0.1), p=0.5\n",
    "#             ),\n",
    "#             ToTensorV2(p=1.0),\n",
    "#         ]\n",
    "#     )"
   ]
  },
  {
   "cell_type": "markdown",
   "id": "virtual-columbia",
   "metadata": {},
   "source": [
    "## 2. Mixup"
   ]
  },
  {
   "cell_type": "code",
   "execution_count": 10,
   "id": "endless-franklin",
   "metadata": {},
   "outputs": [],
   "source": [
    "def mixup_data(x, z, y, params):\n",
    "    if params['mixup_alpha'] > 0:\n",
    "        lam = np.random.beta(\n",
    "            params['mixup_alpha'], params['mixup_alpha']\n",
    "        )\n",
    "    else:\n",
    "        lam = 1\n",
    "\n",
    "    batch_size = x.size()[0]\n",
    "    if params['device'].type == 'cuda':\n",
    "        index = torch.randperm(batch_size).cuda()\n",
    "    else:\n",
    "        index = torch.randperm(batch_size)\n",
    "\n",
    "    mixed_x = lam * x + (1 - lam) * x[index, :]\n",
    "    mixed_z = lam * z + (1 - lam) * z[index, :]\n",
    "    y_a, y_b = y, y[index]\n",
    "    return mixed_x, mixed_z, y_a, y_b, lam\n",
    "\n",
    "def mixup_criterion(criterion, pred, y_a, y_b, lam):\n",
    "    return lam * criterion(pred, y_a) + (1 - lam) * criterion(pred, y_b)    "
   ]
  },
  {
   "cell_type": "markdown",
   "id": "accepting-sandwich",
   "metadata": {},
   "source": [
    "## 3.Valid Augmentations"
   ]
  },
  {
   "cell_type": "code",
   "execution_count": 11,
   "id": "turned-thursday",
   "metadata": {},
   "outputs": [],
   "source": [
    "# def get_valid_transforms(DIM= params['im_size']):\n",
    "#     return albumentations.Compose(\n",
    "#         [\n",
    "#             albumentations.Resize(DIM,DIM),\n",
    "#             albumentations.Normalize(\n",
    "#                 mean = [0.485,0.456,0.406],\n",
    "#                 std = [0.229,0.224,0.225],\n",
    "#             ),\n",
    "#             ToTensorV2(p=1.0)\n",
    "#         ]\n",
    "#     )"
   ]
  },
  {
   "cell_type": "markdown",
   "id": "proof-government",
   "metadata": {},
   "source": [
    "## 4. Dataset"
   ]
  },
  {
   "cell_type": "code",
   "execution_count": 12,
   "id": "crazy-snapshot",
   "metadata": {},
   "outputs": [],
   "source": [
    "class CuteDataset(Dataset):\n",
    "    def __init__(self, images_filepaths, dense_features, targets, transform=None):\n",
    "        self.images_filepaths = images_filepaths\n",
    "        self.dense_features = dense_features\n",
    "        self.targets = targets\n",
    "        self.transform = transform\n",
    "\n",
    "    def __len__(self):\n",
    "        return len(self.images_filepaths)\n",
    "\n",
    "    def __getitem__(self, idx):\n",
    "        image_filepath = self.images_filepaths[idx]\n",
    "        image = cv2.imread(image_filepath)\n",
    "        image = cv2.cvtColor(image, cv2.COLOR_BGR2RGB)\n",
    "\n",
    "        if self.transform is not None:\n",
    "            image = self.transform(image=image)['image']\n",
    "        \n",
    "        image = image / 255 # convert to 0-1\n",
    "        image = np.transpose(image, (2, 0, 1)).astype(np.float32)\n",
    "        image = torch.tensor(image, dtype = torch.float)\n",
    "        dense = self.dense_features[idx, :]\n",
    "        label = torch.tensor(self.targets[idx]).float()\n",
    "        return image, dense, label"
   ]
  },
  {
   "cell_type": "markdown",
   "id": "eastern-supply",
   "metadata": {},
   "source": [
    "## 5. Activation Function"
   ]
  },
  {
   "cell_type": "code",
   "execution_count": 13,
   "id": "brazilian-sullivan",
   "metadata": {},
   "outputs": [],
   "source": [
    "#credit : https://github.com/tyunist/memory_efficient_mish_swish/blob/master/mish.py\n",
    "\n",
    "''' I just wanted to understand and implement custom backward activation in PyTorch so I choose this.\n",
    "    You can also simply use this function below too.\n",
    "\n",
    "class Mish(nn.Module):\n",
    "    def __init__(self):\n",
    "        super(Mish, self).__init__()\n",
    "\n",
    "    def forward(self, input):\n",
    "        return input * (torch.tanh(F.softplus(input)))\n",
    "'''\n",
    "\n",
    "class Mish_func(torch.autograd.Function):\n",
    "    \n",
    "    @staticmethod\n",
    "    def forward(ctx, i):\n",
    "        result = i * torch.tanh(F.softplus(i))\n",
    "        ctx.save_for_backward(i)\n",
    "        return result\n",
    "\n",
    "    @staticmethod\n",
    "    def backward(ctx, grad_output):\n",
    "        i = ctx.saved_tensors[0]\n",
    "  \n",
    "        v = 1. + i.exp()\n",
    "        h = v.log() \n",
    "        grad_gh = 1./h.cosh().pow_(2) \n",
    "\n",
    "        # Note that grad_hv * grad_vx = sigmoid(x)\n",
    "        #grad_hv = 1./v  \n",
    "        #grad_vx = i.exp()\n",
    "        \n",
    "        grad_hx = i.sigmoid()\n",
    "\n",
    "        grad_gx = grad_gh *  grad_hx #grad_hv * grad_vx \n",
    "        \n",
    "        grad_f =  torch.tanh(F.softplus(i)) + i * grad_gx \n",
    "        \n",
    "        return grad_output * grad_f \n",
    "\n",
    "\n",
    "class Mish(nn.Module):\n",
    "    def __init__(self, **kwargs):\n",
    "        super().__init__()\n",
    "        print(\"Mish initialized\")\n",
    "        pass\n",
    "    def forward(self, input_tensor):\n",
    "        return Mish_func.apply(input_tensor)"
   ]
  },
  {
   "cell_type": "code",
   "execution_count": 14,
   "id": "indoor-mortgage",
   "metadata": {},
   "outputs": [],
   "source": [
    "def replace_activations(model, existing_layer, new_layer):\n",
    "    for name, module in reversed(model._modules.items()):\n",
    "        if len(list(module.children())) > 0:\n",
    "            model._modules[name] = replace_activations(module, existing_layer, new_layer)\n",
    "\n",
    "        if type(module) == existing_layer:\n",
    "            layer_old = module\n",
    "            layer_new = new_layer\n",
    "            model._modules[name] = layer_new\n",
    "    return model"
   ]
  },
  {
   "cell_type": "markdown",
   "id": "immune-technical",
   "metadata": {},
   "source": [
    "## 6. Optimizer"
   ]
  },
  {
   "cell_type": "code",
   "execution_count": 15,
   "id": "large-adapter",
   "metadata": {},
   "outputs": [],
   "source": [
    "#credit : https://github.com/Yonghongwei/Gradient-Centralization\n",
    "\n",
    "def centralized_gradient(x, use_gc=True, gc_conv_only=False):\n",
    "    if use_gc:\n",
    "        if gc_conv_only:\n",
    "            if len(list(x.size())) > 3:\n",
    "                x.add_(-x.mean(dim=tuple(range(1, len(list(x.size())))), keepdim=True))\n",
    "        else:\n",
    "            if len(list(x.size())) > 1:\n",
    "                x.add_(-x.mean(dim=tuple(range(1, len(list(x.size())))), keepdim=True))\n",
    "    return x\n",
    "\n",
    "\n",
    "class Ranger(Optimizer):\n",
    "\n",
    "    def __init__(self, params, lr=1e-3,                       # lr\n",
    "                 alpha=0.5, k=5, N_sma_threshhold=5,           # Ranger options\n",
    "                 betas=(.95, 0.999), eps=1e-5, weight_decay=0,  # Adam options\n",
    "                 # Gradient centralization on or off, applied to conv layers only or conv + fc layers\n",
    "                 use_gc=True, gc_conv_only=False, gc_loc=True\n",
    "                 ):\n",
    "\n",
    "        # parameter checks\n",
    "        if not 0.0 <= alpha <= 1.0:\n",
    "            raise ValueError(f'Invalid slow update rate: {alpha}')\n",
    "        if not 1 <= k:\n",
    "            raise ValueError(f'Invalid lookahead steps: {k}')\n",
    "        if not lr > 0:\n",
    "            raise ValueError(f'Invalid Learning Rate: {lr}')\n",
    "        if not eps > 0:\n",
    "            raise ValueError(f'Invalid eps: {eps}')\n",
    "\n",
    "        # parameter comments:\n",
    "        # beta1 (momentum) of .95 seems to work better than .90...\n",
    "        # N_sma_threshold of 5 seems better in testing than 4.\n",
    "        # In both cases, worth testing on your dataset (.90 vs .95, 4 vs 5) to make sure which works best for you.\n",
    "\n",
    "        # prep defaults and init torch.optim base\n",
    "        defaults = dict(lr=lr, alpha=alpha, k=k, step_counter=0, betas=betas,\n",
    "                        N_sma_threshhold=N_sma_threshhold, eps=eps, weight_decay=weight_decay)\n",
    "        super().__init__(params, defaults)\n",
    "\n",
    "        # adjustable threshold\n",
    "        self.N_sma_threshhold = N_sma_threshhold\n",
    "\n",
    "        # look ahead params\n",
    "\n",
    "        self.alpha = alpha\n",
    "        self.k = k\n",
    "\n",
    "        # radam buffer for state\n",
    "        self.radam_buffer = [[None, None, None] for ind in range(10)]\n",
    "\n",
    "        # gc on or off\n",
    "        self.gc_loc = gc_loc\n",
    "        self.use_gc = use_gc\n",
    "        self.gc_conv_only = gc_conv_only\n",
    "        # level of gradient centralization\n",
    "        #self.gc_gradient_threshold = 3 if gc_conv_only else 1\n",
    "\n",
    "        print(\n",
    "            f\"Ranger optimizer loaded. \\nGradient Centralization usage = {self.use_gc}\")\n",
    "        if (self.use_gc and self.gc_conv_only == False):\n",
    "            print(f\"GC applied to both conv and fc layers\")\n",
    "        elif (self.use_gc and self.gc_conv_only == True):\n",
    "            print(f\"GC applied to conv layers only\")\n",
    "\n",
    "    def __setstate__(self, state):\n",
    "        print(\"set state called\")\n",
    "        super(Ranger, self).__setstate__(state)\n",
    "\n",
    "    def step(self, closure=None):\n",
    "        loss = None\n",
    "        # note - below is commented out b/c I have other work that passes back the loss as a float, and thus not a callable closure.\n",
    "        # Uncomment if you need to use the actual closure...\n",
    "\n",
    "        # if closure is not None:\n",
    "        #loss = closure()\n",
    "\n",
    "        # Evaluate averages and grad, update param tensors\n",
    "        for group in self.param_groups:\n",
    "\n",
    "            for p in group['params']:\n",
    "                if p.grad is None:\n",
    "                    continue\n",
    "                grad = p.grad.data.float()\n",
    "\n",
    "                if grad.is_sparse:\n",
    "                    raise RuntimeError(\n",
    "                        'Ranger optimizer does not support sparse gradients')\n",
    "\n",
    "                p_data_fp32 = p.data.float()\n",
    "\n",
    "                state = self.state[p]  # get state dict for this param\n",
    "\n",
    "                if len(state) == 0:  # if first time to run...init dictionary with our desired entries\n",
    "                    # if self.first_run_check==0:\n",
    "                    # self.first_run_check=1\n",
    "                    #print(\"Initializing slow buffer...should not see this at load from saved model!\")\n",
    "                    state['step'] = 0\n",
    "                    state['exp_avg'] = torch.zeros_like(p_data_fp32)\n",
    "                    state['exp_avg_sq'] = torch.zeros_like(p_data_fp32)\n",
    "\n",
    "                    # look ahead weight storage now in state dict\n",
    "                    state['slow_buffer'] = torch.empty_like(p.data)\n",
    "                    state['slow_buffer'].copy_(p.data)\n",
    "\n",
    "                else:\n",
    "                    state['exp_avg'] = state['exp_avg'].type_as(p_data_fp32)\n",
    "                    state['exp_avg_sq'] = state['exp_avg_sq'].type_as(\n",
    "                        p_data_fp32)\n",
    "\n",
    "                # begin computations\n",
    "                exp_avg, exp_avg_sq = state['exp_avg'], state['exp_avg_sq']\n",
    "                beta1, beta2 = group['betas']\n",
    "\n",
    "                # GC operation for Conv layers and FC layers\n",
    "                # if grad.dim() > self.gc_gradient_threshold:\n",
    "                #    grad.add_(-grad.mean(dim=tuple(range(1, grad.dim())), keepdim=True))\n",
    "                if self.gc_loc:\n",
    "                    grad = centralized_gradient(grad, use_gc=self.use_gc, gc_conv_only=self.gc_conv_only)\n",
    "\n",
    "                state['step'] += 1\n",
    "\n",
    "                # compute variance mov avg\n",
    "                exp_avg_sq.mul_(beta2).addcmul_(grad, grad, value=1 - beta2)\n",
    "\n",
    "                # compute mean moving avg\n",
    "                exp_avg.mul_(beta1).add_(grad, alpha=1 - beta1)\n",
    "\n",
    "                buffered = self.radam_buffer[int(state['step'] % 10)]\n",
    "\n",
    "                if state['step'] == buffered[0]:\n",
    "                    N_sma, step_size = buffered[1], buffered[2]\n",
    "                else:\n",
    "                    buffered[0] = state['step']\n",
    "                    beta2_t = beta2 ** state['step']\n",
    "                    N_sma_max = 2 / (1 - beta2) - 1\n",
    "                    N_sma = N_sma_max - 2 * \\\n",
    "                        state['step'] * beta2_t / (1 - beta2_t)\n",
    "                    buffered[1] = N_sma\n",
    "                    if N_sma > self.N_sma_threshhold:\n",
    "                        step_size = math.sqrt((1 - beta2_t) * (N_sma - 4) / (N_sma_max - 4) * (\n",
    "                            N_sma - 2) / N_sma * N_sma_max / (N_sma_max - 2)) / (1 - beta1 ** state['step'])\n",
    "                    else:\n",
    "                        step_size = 1.0 / (1 - beta1 ** state['step'])\n",
    "                    buffered[2] = step_size\n",
    "\n",
    "                # if group['weight_decay'] != 0:\n",
    "                #    p_data_fp32.add_(-group['weight_decay']\n",
    "                #                     * group['lr'], p_data_fp32)\n",
    "\n",
    "                # apply lr\n",
    "                if N_sma > self.N_sma_threshhold:\n",
    "                    denom = exp_avg_sq.sqrt().add_(group['eps'])\n",
    "                    G_grad = exp_avg / denom\n",
    "                else:\n",
    "                    G_grad = exp_avg\n",
    "\n",
    "                if group['weight_decay'] != 0:\n",
    "                    G_grad.add_(p_data_fp32, alpha=group['weight_decay'])\n",
    "                # GC operation\n",
    "                if self.gc_loc == False:\n",
    "                    G_grad = centralized_gradient(G_grad, use_gc=self.use_gc, gc_conv_only=self.gc_conv_only)\n",
    "\n",
    "                p_data_fp32.add_(G_grad, alpha=-step_size * group['lr'])\n",
    "                p.data.copy_(p_data_fp32)\n",
    "\n",
    "                # integrated look ahead...\n",
    "                # we do it at the param level instead of group level\n",
    "                if state['step'] % group['k'] == 0:\n",
    "                    # get access to slow param tensor\n",
    "                    slow_p = state['slow_buffer']\n",
    "                    # (fast weights - slow weights) * alpha\n",
    "                    slow_p.add_(p.data - slow_p, alpha=self.alpha)\n",
    "                    # copy interpolated weights to RAdam param tensor\n",
    "                    p.data.copy_(slow_p)\n",
    "\n",
    "        return loss"
   ]
  },
  {
   "cell_type": "markdown",
   "id": "general-hamburg",
   "metadata": {},
   "source": [
    "## Visualize Some Examples"
   ]
  },
  {
   "cell_type": "code",
   "execution_count": 16,
   "id": "eleven-realtor",
   "metadata": {},
   "outputs": [],
   "source": [
    "X_train = train_df['image_path']\n",
    "X_train_dense = train_df[params['dense_features']]\n",
    "y_train = train_df['Pawpularity']\n",
    "train_dataset = CuteDataset(\n",
    "    images_filepaths=X_train.values,\n",
    "    dense_features=X_train_dense.values,\n",
    "    targets=y_train.values,\n",
    "    transform=get_train_transforms(0)\n",
    ")"
   ]
  },
  {
   "cell_type": "code",
   "execution_count": 17,
   "id": "consecutive-amazon",
   "metadata": {},
   "outputs": [],
   "source": [
    "def show_image(train_dataset=train_dataset, inline=4):\n",
    "    plt.figure(figsize=(20,10))\n",
    "    for i in range(inline):\n",
    "        rand = random.randint(0, len(train_dataset))\n",
    "        image, dense, label = train_dataset[rand]\n",
    "        plt.subplot(1, inline, i%inline +1)\n",
    "        plt.axis('off')\n",
    "        plt.imshow(image.permute(2, 1, 0))\n",
    "        plt.title(f'Pawpularity: {label}')"
   ]
  },
  {
   "cell_type": "code",
   "execution_count": 18,
   "id": "cooperative-budget",
   "metadata": {},
   "outputs": [],
   "source": [
    "# for i in range(3):\n",
    "#     show_image(inline=4)"
   ]
  },
  {
   "cell_type": "code",
   "execution_count": 19,
   "id": "yellow-uniform",
   "metadata": {},
   "outputs": [],
   "source": [
    "del X_train, X_train_dense, y_train, train_dataset\n"
   ]
  },
  {
   "cell_type": "markdown",
   "id": "fantastic-princess",
   "metadata": {},
   "source": [
    "## Metrics"
   ]
  },
  {
   "cell_type": "code",
   "execution_count": 20,
   "id": "appreciated-remove",
   "metadata": {},
   "outputs": [],
   "source": [
    "def usr_rmse_score(output,target):\n",
    "    y_pred = torch.sigmoid(output).cpu()\n",
    "    y_pred = y_pred.detach().numpy()*100\n",
    "    target = target.cpu()*100\n",
    "    \n",
    "    return mean_squared_error(target, y_pred, squared=False)"
   ]
  },
  {
   "cell_type": "code",
   "execution_count": 21,
   "id": "supposed-pulse",
   "metadata": {},
   "outputs": [],
   "source": [
    "class MetricMonitor:\n",
    "    def __init__(self, float_precision=3):\n",
    "        self.float_precision = float_precision\n",
    "        self.reset()\n",
    "\n",
    "    def reset(self):\n",
    "        self.metrics = defaultdict(lambda: {\"val\": 0, \"count\": 0, \"avg\": 0})\n",
    "\n",
    "    def update(self, metric_name, val):\n",
    "        metric = self.metrics[metric_name]\n",
    "\n",
    "        metric[\"val\"] += val\n",
    "        metric[\"count\"] += 1\n",
    "        metric[\"avg\"] = metric[\"val\"] / metric[\"count\"]\n",
    "\n",
    "    def __str__(self):\n",
    "        return \" | \".join(\n",
    "            [\n",
    "                \"{metric_name}: {avg:.{float_precision}f}\".format(\n",
    "                    metric_name=metric_name, avg=metric[\"avg\"],\n",
    "                    float_precision=self.float_precision\n",
    "                )\n",
    "                for (metric_name, metric) in self.metrics.items()\n",
    "            ]\n",
    "        )"
   ]
  },
  {
   "cell_type": "markdown",
   "id": "interior-driver",
   "metadata": {},
   "source": [
    "## Scheduler¶\n",
    "Scheduler is essentially an function that changes our learning rate over epochs/steps. But why do we need to do that?\n",
    "\n",
    "The first reason is that our network may become stuck in either saddle points or local minima, and the low learning rate may not be sufficient to break out of the area and descend into areas of the loss landscape with lower loss.\n",
    "Secondly, our model and optimizer may be very sensitive to our initial learning rate choice. If we make a poor initial choice in learning rate, our model may be stuck from the very start.\n",
    "Instead, we can use Schedulers and specifically Cyclical Learning Rates(CLR) to oscillate our learning rate between upper and lower bounds, enabling us to:\n",
    "\n",
    "Have more freedom in our initial learning rate choices.\n",
    "Break out of saddle points and local minima.\n",
    "In practice, using CLRs leads to far fewer learning rate tuning experiments along with near identical accuracy to exhaustive hyperparameter tuning."
   ]
  },
  {
   "cell_type": "code",
   "execution_count": 22,
   "id": "legendary-shell",
   "metadata": {},
   "outputs": [],
   "source": [
    "def get_scheduler(optimizer, scheduler_params=params):\n",
    "    if scheduler_params['scheduler_name'] == 'CosineAnnealingWarmRestarts':\n",
    "        scheduler = CosineAnnealingWarmRestarts(\n",
    "            optimizer,\n",
    "            T_0=scheduler_params['T_0'],\n",
    "            eta_min=scheduler_params['min_lr'],\n",
    "            last_epoch=-1\n",
    "        )\n",
    "    elif scheduler_params['scheduler_name'] == 'OneCycleLR':\n",
    "        scheduler = OneCycleLR(\n",
    "            optimizer,\n",
    "            max_lr=scheduler_params['max_lr'],\n",
    "            steps_per_epoch=int(((scheduler_params['num_fold']-1) * train_df.shape[0]) / (scheduler_params['num_fold'] * scheduler_params['batch_size'])) + 1,\n",
    "            epochs=scheduler_params['epochs'],\n",
    "        )\n",
    "\n",
    "    elif scheduler_params['scheduler_name'] == 'CosineAnnealingLR':\n",
    "        scheduler = CosineAnnealingLR(\n",
    "            optimizer,\n",
    "            T_max=scheduler_params['T_max'],\n",
    "            eta_min=scheduler_params['min_lr'],\n",
    "            last_epoch=-1\n",
    "        )\n",
    "    return scheduler"
   ]
  },
  {
   "cell_type": "markdown",
   "id": "amber-salmon",
   "metadata": {},
   "source": [
    "## CNN Model"
   ]
  },
  {
   "cell_type": "code",
   "execution_count": 23,
   "id": "gentle-cartridge",
   "metadata": {},
   "outputs": [],
   "source": [
    "class PetNet(nn.Module):\n",
    "    def __init__(self, model_name=params['model'], out_features=params['out_features'], inp_channels=params['inp_channels'],\n",
    "                 pretrained=params['pretrained'], num_dense=len(params['dense_features'])):\n",
    "        super().__init__()\n",
    "        self.model = timm.create_model(model_name, pretrained=pretrained, in_chans=inp_channels)\n",
    "        n_features = self.model.head.in_features #swin : 1536\n",
    "        self.model.head = nn.Linear(n_features, 128)\n",
    "        #self.fc = nn.Sequential(\n",
    "        #    nn.Linear(128 + num_dense, 64), #dense feature 적용\n",
    "        #    nn.ReLU(),\n",
    "        #    nn.Linear(64, out_features)\n",
    "        #)\n",
    "        self.fc = nn.Sequential(\n",
    "            nn.Linear(128 + num_dense, 64), #dense feature 적용\n",
    "            nn.ReLU(),\n",
    "            nn.Linear(64, out_features)\n",
    "            ##nn.BatchNorm1d(64),\n",
    "            #nn.GELU(),\n",
    "            #nn.Linear(64, 32),\n",
    "            ##nn.BatchNorm1d(32),\n",
    "            #nn.GELU(),\n",
    "            #nn.Linear(32, out_features),\n",
    "        )\n",
    "        self.dropout = nn.Dropout(params['dropout'])\n",
    "        #self.BatchNorm = nn.BatchNorm1d(128 + num_dense)\n",
    "    \n",
    "    def forward(self, image, dense):\n",
    "        embeddings = self.model(image)\n",
    "        x = self.dropout(embeddings)\n",
    "        x = torch.cat([x, dense], dim=1)\n",
    "        output = self.fc(x)\n",
    "        return output"
   ]
  },
  {
   "cell_type": "markdown",
   "id": "maritime-implement",
   "metadata": {},
   "source": [
    "## Train and Valid functions"
   ]
  },
  {
   "cell_type": "markdown",
   "id": "oriental-spine",
   "metadata": {},
   "source": [
    "### 1. Train Functions"
   ]
  },
  {
   "cell_type": "code",
   "execution_count": 24,
   "id": "distinct-blogger",
   "metadata": {},
   "outputs": [],
   "source": [
    "def train_fn(train_loader, model, criterion, optimizer, epoch, params, scheduler=None):\n",
    "    metric_monitor = MetricMonitor()\n",
    "    model.train()\n",
    "    stream = tqdm(train_loader)\n",
    "    \n",
    "    for i, (images, dense, target) in enumerate(stream, start=1):\n",
    "        if params['mixup']:\n",
    "            images, dense, target_a, target_b, lam = mixup_data(images, dense, target.view(-1, 1), params)\n",
    "            images = images.to(params['device'], dtype=torch.float)\n",
    "            dense = dense.to(params['device'], dtype=torch.float)\n",
    "            target_a = target_a.to(params['device'], dtype=torch.float)\n",
    "            target_b = target_b.to(params['device'], dtype=torch.float)\n",
    "        else:\n",
    "            images = images.to(params['device'], non_blocking=True)\n",
    "            dense = dense.to(params['device'], non_blocking=True)\n",
    "            target = target.to(params['device'], non_blocking=True).float().view(-1, 1)\n",
    "            \n",
    "        output = model(images, dense)\n",
    "        \n",
    "        if params['mixup']:\n",
    "            loss = mixup_criterion(criterion, output, target_a, target_b, lam)\n",
    "        else:\n",
    "            loss = criterion(output, target)\n",
    "            \n",
    "        rmse_score = usr_rmse_score(output, target)\n",
    "        metric_monitor.update('Loss', loss.item())\n",
    "        metric_monitor.update('RMSE', rmse_score)\n",
    "        loss.backward()\n",
    "        optimizer.step()\n",
    "            \n",
    "        if scheduler is not None:\n",
    "            scheduler.step()\n",
    "        \n",
    "        optimizer.zero_grad()\n",
    "        stream.set_description(f\"Epoch: {epoch:02}. Train. {metric_monitor}\")"
   ]
  },
  {
   "cell_type": "markdown",
   "id": "nominated-rouge",
   "metadata": {},
   "source": [
    "### 2. Valid functions"
   ]
  },
  {
   "cell_type": "code",
   "execution_count": 25,
   "id": "protecting-diving",
   "metadata": {},
   "outputs": [],
   "source": [
    "def validate_fn(val_loader, model, criterion, epoch, params):\n",
    "    metric_monitor = MetricMonitor()\n",
    "    model.eval()\n",
    "    stream = tqdm(val_loader)\n",
    "    final_targets = []\n",
    "    final_outputs = []\n",
    "    with torch.no_grad():\n",
    "        for i, (images, dense, target) in enumerate(stream, start=1):\n",
    "            images = images.to(params['device'], non_blocking=True)\n",
    "            dense = dense.to(params['device'], non_blocking=True)\n",
    "            target = target.to(params['device'], non_blocking=True).float().view(-1, 1)\n",
    "            output = model(images, dense)\n",
    "            loss = criterion(output, target)\n",
    "            rmse_score = usr_rmse_score(output, target)\n",
    "            metric_monitor.update('Loss', loss.item())\n",
    "            metric_monitor.update('RMSE', rmse_score)\n",
    "            stream.set_description(f\"Epoch: {epoch:02}. Valid. {metric_monitor}\")\n",
    "            \n",
    "            targets = (target.detach().cpu().numpy()*100).tolist()\n",
    "            outputs = (torch.sigmoid(output).detach().cpu().numpy()*100).tolist()\n",
    "            \n",
    "            final_targets.extend(targets)\n",
    "            final_outputs.extend(outputs)\n",
    "    return final_outputs, final_targets"
   ]
  },
  {
   "cell_type": "markdown",
   "id": "dental-threshold",
   "metadata": {},
   "source": [
    "### Run"
   ]
  },
  {
   "cell_type": "code",
   "execution_count": 26,
   "id": "expressed-county",
   "metadata": {},
   "outputs": [],
   "source": [
    "best_models_of_each_fold = []\n",
    "rmse_tracker = []"
   ]
  },
  {
   "cell_type": "code",
   "execution_count": 27,
   "id": "alien-pharmaceutical",
   "metadata": {},
   "outputs": [
    {
     "name": "stdout",
     "output_type": "stream",
     "text": [
      "##################################################\n",
      "=============== TRAINING FOLD: 1/5 ===============\n"
     ]
    },
    {
     "data": {
      "application/vnd.jupyter.widget-view+json": {
       "model_id": "cb0b3a807cc04a079ed5440e5905f2ac",
       "version_major": 2,
       "version_minor": 0
      },
      "text/plain": [
       "HBox(children=(FloatProgress(value=0.0, max=496.0), HTML(value='')))"
      ]
     },
     "metadata": {},
     "output_type": "display_data"
    },
    {
     "name": "stdout",
     "output_type": "stream",
     "text": [
      "\n"
     ]
    },
    {
     "data": {
      "application/vnd.jupyter.widget-view+json": {
       "model_id": "5d546eca160d4502892e8c5c9ad49c3c",
       "version_major": 2,
       "version_minor": 0
      },
      "text/plain": [
       "HBox(children=(FloatProgress(value=0.0, max=124.0), HTML(value='')))"
      ]
     },
     "metadata": {},
     "output_type": "display_data"
    },
    {
     "name": "stdout",
     "output_type": "stream",
     "text": [
      "\n"
     ]
    },
    {
     "data": {
      "application/vnd.jupyter.widget-view+json": {
       "model_id": "896434b6ab3c43c180ca493d54ca86ad",
       "version_major": 2,
       "version_minor": 0
      },
      "text/plain": [
       "HBox(children=(FloatProgress(value=0.0, max=496.0), HTML(value='')))"
      ]
     },
     "metadata": {},
     "output_type": "display_data"
    },
    {
     "name": "stdout",
     "output_type": "stream",
     "text": [
      "\n"
     ]
    },
    {
     "data": {
      "application/vnd.jupyter.widget-view+json": {
       "model_id": "fbe249ab502e4430abced23ecc08f4ab",
       "version_major": 2,
       "version_minor": 0
      },
      "text/plain": [
       "HBox(children=(FloatProgress(value=0.0, max=124.0), HTML(value='')))"
      ]
     },
     "metadata": {},
     "output_type": "display_data"
    },
    {
     "name": "stdout",
     "output_type": "stream",
     "text": [
      "\n"
     ]
    },
    {
     "data": {
      "application/vnd.jupyter.widget-view+json": {
       "model_id": "cfa4192461cd41f091a8f3bc74b993a0",
       "version_major": 2,
       "version_minor": 0
      },
      "text/plain": [
       "HBox(children=(FloatProgress(value=0.0, max=496.0), HTML(value='')))"
      ]
     },
     "metadata": {},
     "output_type": "display_data"
    },
    {
     "name": "stdout",
     "output_type": "stream",
     "text": [
      "\n"
     ]
    },
    {
     "data": {
      "application/vnd.jupyter.widget-view+json": {
       "model_id": "33b90ed5cc204ac9bd3a43dede1b1bc9",
       "version_major": 2,
       "version_minor": 0
      },
      "text/plain": [
       "HBox(children=(FloatProgress(value=0.0, max=124.0), HTML(value='')))"
      ]
     },
     "metadata": {},
     "output_type": "display_data"
    },
    {
     "name": "stdout",
     "output_type": "stream",
     "text": [
      "\n"
     ]
    },
    {
     "data": {
      "application/vnd.jupyter.widget-view+json": {
       "model_id": "d7af43d9449149a5a56830685effeaf6",
       "version_major": 2,
       "version_minor": 0
      },
      "text/plain": [
       "HBox(children=(FloatProgress(value=0.0, max=496.0), HTML(value='')))"
      ]
     },
     "metadata": {},
     "output_type": "display_data"
    },
    {
     "name": "stdout",
     "output_type": "stream",
     "text": [
      "\n"
     ]
    },
    {
     "data": {
      "application/vnd.jupyter.widget-view+json": {
       "model_id": "b45dbe7e335b4a9593bcdb012446c369",
       "version_major": 2,
       "version_minor": 0
      },
      "text/plain": [
       "HBox(children=(FloatProgress(value=0.0, max=124.0), HTML(value='')))"
      ]
     },
     "metadata": {},
     "output_type": "display_data"
    },
    {
     "name": "stdout",
     "output_type": "stream",
     "text": [
      "\n"
     ]
    },
    {
     "data": {
      "application/vnd.jupyter.widget-view+json": {
       "model_id": "b9e35925c73d42e3b832f5236dd6f949",
       "version_major": 2,
       "version_minor": 0
      },
      "text/plain": [
       "HBox(children=(FloatProgress(value=0.0, max=496.0), HTML(value='')))"
      ]
     },
     "metadata": {},
     "output_type": "display_data"
    },
    {
     "name": "stdout",
     "output_type": "stream",
     "text": [
      "\n"
     ]
    },
    {
     "data": {
      "application/vnd.jupyter.widget-view+json": {
       "model_id": "cdfb9884f24a427c914ef2e0d0bca4cd",
       "version_major": 2,
       "version_minor": 0
      },
      "text/plain": [
       "HBox(children=(FloatProgress(value=0.0, max=124.0), HTML(value='')))"
      ]
     },
     "metadata": {},
     "output_type": "display_data"
    },
    {
     "name": "stdout",
     "output_type": "stream",
     "text": [
      "\n"
     ]
    },
    {
     "data": {
      "application/vnd.jupyter.widget-view+json": {
       "model_id": "7c7b00ea73124816a2464bcf0e363d88",
       "version_major": 2,
       "version_minor": 0
      },
      "text/plain": [
       "HBox(children=(FloatProgress(value=0.0, max=496.0), HTML(value='')))"
      ]
     },
     "metadata": {},
     "output_type": "display_data"
    },
    {
     "name": "stdout",
     "output_type": "stream",
     "text": [
      "\n"
     ]
    },
    {
     "data": {
      "application/vnd.jupyter.widget-view+json": {
       "model_id": "5038f9fb1bd445879d2bbc7eaebbaf71",
       "version_major": 2,
       "version_minor": 0
      },
      "text/plain": [
       "HBox(children=(FloatProgress(value=0.0, max=124.0), HTML(value='')))"
      ]
     },
     "metadata": {},
     "output_type": "display_data"
    },
    {
     "name": "stdout",
     "output_type": "stream",
     "text": [
      "\n"
     ]
    },
    {
     "data": {
      "application/vnd.jupyter.widget-view+json": {
       "model_id": "48fe07f117d143808d6620996cda6f8c",
       "version_major": 2,
       "version_minor": 0
      },
      "text/plain": [
       "HBox(children=(FloatProgress(value=0.0, max=496.0), HTML(value='')))"
      ]
     },
     "metadata": {},
     "output_type": "display_data"
    },
    {
     "name": "stdout",
     "output_type": "stream",
     "text": [
      "\n"
     ]
    },
    {
     "data": {
      "application/vnd.jupyter.widget-view+json": {
       "model_id": "404c327e54c84785936c358b19e6748c",
       "version_major": 2,
       "version_minor": 0
      },
      "text/plain": [
       "HBox(children=(FloatProgress(value=0.0, max=124.0), HTML(value='')))"
      ]
     },
     "metadata": {},
     "output_type": "display_data"
    },
    {
     "name": "stdout",
     "output_type": "stream",
     "text": [
      "\n"
     ]
    },
    {
     "data": {
      "application/vnd.jupyter.widget-view+json": {
       "model_id": "1d3a4bc49d634f7dbe688d27036c18d1",
       "version_major": 2,
       "version_minor": 0
      },
      "text/plain": [
       "HBox(children=(FloatProgress(value=0.0, max=496.0), HTML(value='')))"
      ]
     },
     "metadata": {},
     "output_type": "display_data"
    },
    {
     "name": "stdout",
     "output_type": "stream",
     "text": [
      "\n"
     ]
    },
    {
     "data": {
      "application/vnd.jupyter.widget-view+json": {
       "model_id": "86ed417c5ac34cd5ab389b14de8b3829",
       "version_major": 2,
       "version_minor": 0
      },
      "text/plain": [
       "HBox(children=(FloatProgress(value=0.0, max=124.0), HTML(value='')))"
      ]
     },
     "metadata": {},
     "output_type": "display_data"
    },
    {
     "name": "stdout",
     "output_type": "stream",
     "text": [
      "\n"
     ]
    },
    {
     "data": {
      "application/vnd.jupyter.widget-view+json": {
       "model_id": "3be51b9edace4c9ab2892cac073f24f8",
       "version_major": 2,
       "version_minor": 0
      },
      "text/plain": [
       "HBox(children=(FloatProgress(value=0.0, max=496.0), HTML(value='')))"
      ]
     },
     "metadata": {},
     "output_type": "display_data"
    },
    {
     "name": "stdout",
     "output_type": "stream",
     "text": [
      "\n"
     ]
    },
    {
     "data": {
      "application/vnd.jupyter.widget-view+json": {
       "model_id": "28627b2fe77540cba2510665618afa9e",
       "version_major": 2,
       "version_minor": 0
      },
      "text/plain": [
       "HBox(children=(FloatProgress(value=0.0, max=124.0), HTML(value='')))"
      ]
     },
     "metadata": {},
     "output_type": "display_data"
    },
    {
     "name": "stdout",
     "output_type": "stream",
     "text": [
      "\n"
     ]
    },
    {
     "data": {
      "application/vnd.jupyter.widget-view+json": {
       "model_id": "2247aa675221489c9ae6b2346911cea7",
       "version_major": 2,
       "version_minor": 0
      },
      "text/plain": [
       "HBox(children=(FloatProgress(value=0.0, max=496.0), HTML(value='')))"
      ]
     },
     "metadata": {},
     "output_type": "display_data"
    },
    {
     "name": "stdout",
     "output_type": "stream",
     "text": [
      "\n"
     ]
    },
    {
     "data": {
      "application/vnd.jupyter.widget-view+json": {
       "model_id": "755369eb6fbc40878e0c6f922f5d81f7",
       "version_major": 2,
       "version_minor": 0
      },
      "text/plain": [
       "HBox(children=(FloatProgress(value=0.0, max=124.0), HTML(value='')))"
      ]
     },
     "metadata": {},
     "output_type": "display_data"
    },
    {
     "name": "stdout",
     "output_type": "stream",
     "text": [
      "\n",
      "\n",
      "The best RMSE: 17.9 for fold 1 was achieved on epoch: 4.\n",
      "The Best saved model is: weights/crop_vit_large_patch32_384_4_epoch_f1_17.9_rmse.pth\n",
      "##################################################\n",
      "##################################################\n",
      "=============== TRAINING FOLD: 2/5 ===============\n"
     ]
    },
    {
     "data": {
      "application/vnd.jupyter.widget-view+json": {
       "model_id": "b4c531ed121d4dbfacbe81d3086502a2",
       "version_major": 2,
       "version_minor": 0
      },
      "text/plain": [
       "HBox(children=(FloatProgress(value=0.0, max=496.0), HTML(value='')))"
      ]
     },
     "metadata": {},
     "output_type": "display_data"
    },
    {
     "name": "stdout",
     "output_type": "stream",
     "text": [
      "\n"
     ]
    },
    {
     "data": {
      "application/vnd.jupyter.widget-view+json": {
       "model_id": "69117c844cc74d8e8ada63a549244ac6",
       "version_major": 2,
       "version_minor": 0
      },
      "text/plain": [
       "HBox(children=(FloatProgress(value=0.0, max=124.0), HTML(value='')))"
      ]
     },
     "metadata": {},
     "output_type": "display_data"
    },
    {
     "name": "stdout",
     "output_type": "stream",
     "text": [
      "\n"
     ]
    },
    {
     "data": {
      "application/vnd.jupyter.widget-view+json": {
       "model_id": "378c1066f6d642a88bc8e16c3d52a0f2",
       "version_major": 2,
       "version_minor": 0
      },
      "text/plain": [
       "HBox(children=(FloatProgress(value=0.0, max=496.0), HTML(value='')))"
      ]
     },
     "metadata": {},
     "output_type": "display_data"
    },
    {
     "name": "stdout",
     "output_type": "stream",
     "text": [
      "\n"
     ]
    },
    {
     "data": {
      "application/vnd.jupyter.widget-view+json": {
       "model_id": "c48d2b7b296e46fe9c1954e85e9e239f",
       "version_major": 2,
       "version_minor": 0
      },
      "text/plain": [
       "HBox(children=(FloatProgress(value=0.0, max=124.0), HTML(value='')))"
      ]
     },
     "metadata": {},
     "output_type": "display_data"
    },
    {
     "name": "stdout",
     "output_type": "stream",
     "text": [
      "\n"
     ]
    },
    {
     "data": {
      "application/vnd.jupyter.widget-view+json": {
       "model_id": "4cc12516697e49069d49fe44b5d06fe6",
       "version_major": 2,
       "version_minor": 0
      },
      "text/plain": [
       "HBox(children=(FloatProgress(value=0.0, max=496.0), HTML(value='')))"
      ]
     },
     "metadata": {},
     "output_type": "display_data"
    },
    {
     "name": "stdout",
     "output_type": "stream",
     "text": [
      "\n"
     ]
    },
    {
     "data": {
      "application/vnd.jupyter.widget-view+json": {
       "model_id": "9afe95f3c2f9477fb2c1521d026f4906",
       "version_major": 2,
       "version_minor": 0
      },
      "text/plain": [
       "HBox(children=(FloatProgress(value=0.0, max=124.0), HTML(value='')))"
      ]
     },
     "metadata": {},
     "output_type": "display_data"
    },
    {
     "name": "stdout",
     "output_type": "stream",
     "text": [
      "\n"
     ]
    },
    {
     "data": {
      "application/vnd.jupyter.widget-view+json": {
       "model_id": "536c9c59cda2470d9d0c5682b19c0f79",
       "version_major": 2,
       "version_minor": 0
      },
      "text/plain": [
       "HBox(children=(FloatProgress(value=0.0, max=496.0), HTML(value='')))"
      ]
     },
     "metadata": {},
     "output_type": "display_data"
    },
    {
     "name": "stdout",
     "output_type": "stream",
     "text": [
      "\n"
     ]
    },
    {
     "data": {
      "application/vnd.jupyter.widget-view+json": {
       "model_id": "08d615489e444c09b8e4a96c6b1b00ec",
       "version_major": 2,
       "version_minor": 0
      },
      "text/plain": [
       "HBox(children=(FloatProgress(value=0.0, max=124.0), HTML(value='')))"
      ]
     },
     "metadata": {},
     "output_type": "display_data"
    },
    {
     "name": "stdout",
     "output_type": "stream",
     "text": [
      "\n"
     ]
    },
    {
     "data": {
      "application/vnd.jupyter.widget-view+json": {
       "model_id": "71c36b6899304c09981e29bd8c3c2769",
       "version_major": 2,
       "version_minor": 0
      },
      "text/plain": [
       "HBox(children=(FloatProgress(value=0.0, max=496.0), HTML(value='')))"
      ]
     },
     "metadata": {},
     "output_type": "display_data"
    },
    {
     "name": "stdout",
     "output_type": "stream",
     "text": [
      "\n"
     ]
    },
    {
     "data": {
      "application/vnd.jupyter.widget-view+json": {
       "model_id": "ba7b27225713436596b007d5fa802ef6",
       "version_major": 2,
       "version_minor": 0
      },
      "text/plain": [
       "HBox(children=(FloatProgress(value=0.0, max=124.0), HTML(value='')))"
      ]
     },
     "metadata": {},
     "output_type": "display_data"
    },
    {
     "name": "stdout",
     "output_type": "stream",
     "text": [
      "\n"
     ]
    },
    {
     "data": {
      "application/vnd.jupyter.widget-view+json": {
       "model_id": "637b2cc3622843d28d74e2396257dd11",
       "version_major": 2,
       "version_minor": 0
      },
      "text/plain": [
       "HBox(children=(FloatProgress(value=0.0, max=496.0), HTML(value='')))"
      ]
     },
     "metadata": {},
     "output_type": "display_data"
    },
    {
     "name": "stdout",
     "output_type": "stream",
     "text": [
      "\n"
     ]
    },
    {
     "data": {
      "application/vnd.jupyter.widget-view+json": {
       "model_id": "9306c122abb944999ece74338e28c2a9",
       "version_major": 2,
       "version_minor": 0
      },
      "text/plain": [
       "HBox(children=(FloatProgress(value=0.0, max=124.0), HTML(value='')))"
      ]
     },
     "metadata": {},
     "output_type": "display_data"
    },
    {
     "name": "stdout",
     "output_type": "stream",
     "text": [
      "\n"
     ]
    },
    {
     "data": {
      "application/vnd.jupyter.widget-view+json": {
       "model_id": "d660500efd09490e8f20c509fec91f31",
       "version_major": 2,
       "version_minor": 0
      },
      "text/plain": [
       "HBox(children=(FloatProgress(value=0.0, max=496.0), HTML(value='')))"
      ]
     },
     "metadata": {},
     "output_type": "display_data"
    },
    {
     "name": "stdout",
     "output_type": "stream",
     "text": [
      "\n"
     ]
    },
    {
     "data": {
      "application/vnd.jupyter.widget-view+json": {
       "model_id": "143ba4c9b5624fb4b2c4727a325f5e24",
       "version_major": 2,
       "version_minor": 0
      },
      "text/plain": [
       "HBox(children=(FloatProgress(value=0.0, max=124.0), HTML(value='')))"
      ]
     },
     "metadata": {},
     "output_type": "display_data"
    },
    {
     "name": "stdout",
     "output_type": "stream",
     "text": [
      "\n"
     ]
    },
    {
     "data": {
      "application/vnd.jupyter.widget-view+json": {
       "model_id": "3043c341925c442f970398fc2f87ebf8",
       "version_major": 2,
       "version_minor": 0
      },
      "text/plain": [
       "HBox(children=(FloatProgress(value=0.0, max=496.0), HTML(value='')))"
      ]
     },
     "metadata": {},
     "output_type": "display_data"
    },
    {
     "name": "stdout",
     "output_type": "stream",
     "text": [
      "\n"
     ]
    },
    {
     "data": {
      "application/vnd.jupyter.widget-view+json": {
       "model_id": "25c3397aa9f04620b1b4f5fc91c5aa18",
       "version_major": 2,
       "version_minor": 0
      },
      "text/plain": [
       "HBox(children=(FloatProgress(value=0.0, max=124.0), HTML(value='')))"
      ]
     },
     "metadata": {},
     "output_type": "display_data"
    },
    {
     "name": "stdout",
     "output_type": "stream",
     "text": [
      "\n"
     ]
    },
    {
     "data": {
      "application/vnd.jupyter.widget-view+json": {
       "model_id": "7c467e0429fd4e2e85869e533163fe17",
       "version_major": 2,
       "version_minor": 0
      },
      "text/plain": [
       "HBox(children=(FloatProgress(value=0.0, max=496.0), HTML(value='')))"
      ]
     },
     "metadata": {},
     "output_type": "display_data"
    },
    {
     "name": "stdout",
     "output_type": "stream",
     "text": [
      "\n"
     ]
    },
    {
     "data": {
      "application/vnd.jupyter.widget-view+json": {
       "model_id": "4b3ccf3bc4bf43108b236e783d3594c1",
       "version_major": 2,
       "version_minor": 0
      },
      "text/plain": [
       "HBox(children=(FloatProgress(value=0.0, max=124.0), HTML(value='')))"
      ]
     },
     "metadata": {},
     "output_type": "display_data"
    },
    {
     "name": "stdout",
     "output_type": "stream",
     "text": [
      "\n"
     ]
    },
    {
     "data": {
      "application/vnd.jupyter.widget-view+json": {
       "model_id": "8a14a751aabf4f4b972f4fbed67956b5",
       "version_major": 2,
       "version_minor": 0
      },
      "text/plain": [
       "HBox(children=(FloatProgress(value=0.0, max=496.0), HTML(value='')))"
      ]
     },
     "metadata": {},
     "output_type": "display_data"
    },
    {
     "name": "stdout",
     "output_type": "stream",
     "text": [
      "\n"
     ]
    },
    {
     "data": {
      "application/vnd.jupyter.widget-view+json": {
       "model_id": "e4bd0fe7a05f4cebaa955a68bd8ec1b6",
       "version_major": 2,
       "version_minor": 0
      },
      "text/plain": [
       "HBox(children=(FloatProgress(value=0.0, max=124.0), HTML(value='')))"
      ]
     },
     "metadata": {},
     "output_type": "display_data"
    },
    {
     "name": "stdout",
     "output_type": "stream",
     "text": [
      "\n",
      "\n",
      "The best RMSE: 18.361 for fold 2 was achieved on epoch: 3.\n",
      "The Best saved model is: weights/crop_vit_large_patch32_384_3_epoch_f2_18.361_rmse.pth\n",
      "##################################################\n",
      "##################################################\n",
      "=============== TRAINING FOLD: 3/5 ===============\n"
     ]
    },
    {
     "data": {
      "application/vnd.jupyter.widget-view+json": {
       "model_id": "a78ab99d89cf4c0884a346fa1f307289",
       "version_major": 2,
       "version_minor": 0
      },
      "text/plain": [
       "HBox(children=(FloatProgress(value=0.0, max=496.0), HTML(value='')))"
      ]
     },
     "metadata": {},
     "output_type": "display_data"
    },
    {
     "name": "stdout",
     "output_type": "stream",
     "text": [
      "\n"
     ]
    },
    {
     "data": {
      "application/vnd.jupyter.widget-view+json": {
       "model_id": "cad04a4bd32d48e79d7437627c150cba",
       "version_major": 2,
       "version_minor": 0
      },
      "text/plain": [
       "HBox(children=(FloatProgress(value=0.0, max=124.0), HTML(value='')))"
      ]
     },
     "metadata": {},
     "output_type": "display_data"
    },
    {
     "name": "stdout",
     "output_type": "stream",
     "text": [
      "\n"
     ]
    },
    {
     "data": {
      "application/vnd.jupyter.widget-view+json": {
       "model_id": "a753e3af3f4a4df8a4263a5e2b28e3d7",
       "version_major": 2,
       "version_minor": 0
      },
      "text/plain": [
       "HBox(children=(FloatProgress(value=0.0, max=496.0), HTML(value='')))"
      ]
     },
     "metadata": {},
     "output_type": "display_data"
    },
    {
     "name": "stdout",
     "output_type": "stream",
     "text": [
      "\n"
     ]
    },
    {
     "data": {
      "application/vnd.jupyter.widget-view+json": {
       "model_id": "511183c686da40569593067378a5a432",
       "version_major": 2,
       "version_minor": 0
      },
      "text/plain": [
       "HBox(children=(FloatProgress(value=0.0, max=124.0), HTML(value='')))"
      ]
     },
     "metadata": {},
     "output_type": "display_data"
    },
    {
     "name": "stdout",
     "output_type": "stream",
     "text": [
      "\n"
     ]
    },
    {
     "data": {
      "application/vnd.jupyter.widget-view+json": {
       "model_id": "f9d6eb3c542947f094e80665ce03ba4f",
       "version_major": 2,
       "version_minor": 0
      },
      "text/plain": [
       "HBox(children=(FloatProgress(value=0.0, max=496.0), HTML(value='')))"
      ]
     },
     "metadata": {},
     "output_type": "display_data"
    },
    {
     "name": "stdout",
     "output_type": "stream",
     "text": [
      "\n"
     ]
    },
    {
     "data": {
      "application/vnd.jupyter.widget-view+json": {
       "model_id": "a82f87fa3a2a4e4da12a726db7dbe2b4",
       "version_major": 2,
       "version_minor": 0
      },
      "text/plain": [
       "HBox(children=(FloatProgress(value=0.0, max=124.0), HTML(value='')))"
      ]
     },
     "metadata": {},
     "output_type": "display_data"
    },
    {
     "name": "stdout",
     "output_type": "stream",
     "text": [
      "\n"
     ]
    },
    {
     "data": {
      "application/vnd.jupyter.widget-view+json": {
       "model_id": "6a1187675358452498fbbb2da16b988b",
       "version_major": 2,
       "version_minor": 0
      },
      "text/plain": [
       "HBox(children=(FloatProgress(value=0.0, max=496.0), HTML(value='')))"
      ]
     },
     "metadata": {},
     "output_type": "display_data"
    },
    {
     "name": "stdout",
     "output_type": "stream",
     "text": [
      "\n"
     ]
    },
    {
     "data": {
      "application/vnd.jupyter.widget-view+json": {
       "model_id": "db49fbc9d7a7409a89179d80197e337d",
       "version_major": 2,
       "version_minor": 0
      },
      "text/plain": [
       "HBox(children=(FloatProgress(value=0.0, max=124.0), HTML(value='')))"
      ]
     },
     "metadata": {},
     "output_type": "display_data"
    },
    {
     "name": "stdout",
     "output_type": "stream",
     "text": [
      "\n"
     ]
    },
    {
     "data": {
      "application/vnd.jupyter.widget-view+json": {
       "model_id": "4aa0006c94c54ac6bf431f2e1b691e39",
       "version_major": 2,
       "version_minor": 0
      },
      "text/plain": [
       "HBox(children=(FloatProgress(value=0.0, max=496.0), HTML(value='')))"
      ]
     },
     "metadata": {},
     "output_type": "display_data"
    },
    {
     "name": "stdout",
     "output_type": "stream",
     "text": [
      "\n"
     ]
    },
    {
     "data": {
      "application/vnd.jupyter.widget-view+json": {
       "model_id": "ec2b1307e4c94f6ba881528e7df6f6b2",
       "version_major": 2,
       "version_minor": 0
      },
      "text/plain": [
       "HBox(children=(FloatProgress(value=0.0, max=124.0), HTML(value='')))"
      ]
     },
     "metadata": {},
     "output_type": "display_data"
    },
    {
     "name": "stdout",
     "output_type": "stream",
     "text": [
      "\n"
     ]
    },
    {
     "data": {
      "application/vnd.jupyter.widget-view+json": {
       "model_id": "1ee33103471e436d8a0641f1ed40260c",
       "version_major": 2,
       "version_minor": 0
      },
      "text/plain": [
       "HBox(children=(FloatProgress(value=0.0, max=496.0), HTML(value='')))"
      ]
     },
     "metadata": {},
     "output_type": "display_data"
    },
    {
     "name": "stdout",
     "output_type": "stream",
     "text": [
      "\n"
     ]
    },
    {
     "data": {
      "application/vnd.jupyter.widget-view+json": {
       "model_id": "b96b8b28b87f49b89e3cd48752f311e3",
       "version_major": 2,
       "version_minor": 0
      },
      "text/plain": [
       "HBox(children=(FloatProgress(value=0.0, max=124.0), HTML(value='')))"
      ]
     },
     "metadata": {},
     "output_type": "display_data"
    },
    {
     "name": "stdout",
     "output_type": "stream",
     "text": [
      "\n"
     ]
    },
    {
     "data": {
      "application/vnd.jupyter.widget-view+json": {
       "model_id": "ea3a07a8df1a431c9945ec3c8ba5c858",
       "version_major": 2,
       "version_minor": 0
      },
      "text/plain": [
       "HBox(children=(FloatProgress(value=0.0, max=496.0), HTML(value='')))"
      ]
     },
     "metadata": {},
     "output_type": "display_data"
    },
    {
     "name": "stdout",
     "output_type": "stream",
     "text": [
      "\n"
     ]
    },
    {
     "data": {
      "application/vnd.jupyter.widget-view+json": {
       "model_id": "437cb4b11a9e49948bb385e297708001",
       "version_major": 2,
       "version_minor": 0
      },
      "text/plain": [
       "HBox(children=(FloatProgress(value=0.0, max=124.0), HTML(value='')))"
      ]
     },
     "metadata": {},
     "output_type": "display_data"
    },
    {
     "name": "stdout",
     "output_type": "stream",
     "text": [
      "\n"
     ]
    },
    {
     "data": {
      "application/vnd.jupyter.widget-view+json": {
       "model_id": "e4e253ae0a664a6d946126fe3ee38dc6",
       "version_major": 2,
       "version_minor": 0
      },
      "text/plain": [
       "HBox(children=(FloatProgress(value=0.0, max=496.0), HTML(value='')))"
      ]
     },
     "metadata": {},
     "output_type": "display_data"
    },
    {
     "name": "stdout",
     "output_type": "stream",
     "text": [
      "\n"
     ]
    },
    {
     "data": {
      "application/vnd.jupyter.widget-view+json": {
       "model_id": "d4f17529e8074af09e8374e436ee3954",
       "version_major": 2,
       "version_minor": 0
      },
      "text/plain": [
       "HBox(children=(FloatProgress(value=0.0, max=124.0), HTML(value='')))"
      ]
     },
     "metadata": {},
     "output_type": "display_data"
    },
    {
     "name": "stdout",
     "output_type": "stream",
     "text": [
      "\n"
     ]
    },
    {
     "data": {
      "application/vnd.jupyter.widget-view+json": {
       "model_id": "31576f5feafa46f9878baf84d358922d",
       "version_major": 2,
       "version_minor": 0
      },
      "text/plain": [
       "HBox(children=(FloatProgress(value=0.0, max=496.0), HTML(value='')))"
      ]
     },
     "metadata": {},
     "output_type": "display_data"
    },
    {
     "name": "stdout",
     "output_type": "stream",
     "text": [
      "\n"
     ]
    },
    {
     "data": {
      "application/vnd.jupyter.widget-view+json": {
       "model_id": "52d3415a19da44b0a58da29409777747",
       "version_major": 2,
       "version_minor": 0
      },
      "text/plain": [
       "HBox(children=(FloatProgress(value=0.0, max=124.0), HTML(value='')))"
      ]
     },
     "metadata": {},
     "output_type": "display_data"
    },
    {
     "name": "stdout",
     "output_type": "stream",
     "text": [
      "\n"
     ]
    },
    {
     "data": {
      "application/vnd.jupyter.widget-view+json": {
       "model_id": "3b3f174157084ad3a6f1051252b3de78",
       "version_major": 2,
       "version_minor": 0
      },
      "text/plain": [
       "HBox(children=(FloatProgress(value=0.0, max=496.0), HTML(value='')))"
      ]
     },
     "metadata": {},
     "output_type": "display_data"
    },
    {
     "name": "stdout",
     "output_type": "stream",
     "text": [
      "\n"
     ]
    },
    {
     "data": {
      "application/vnd.jupyter.widget-view+json": {
       "model_id": "92e66cbe955749d184bfd2d1dcc1b1e2",
       "version_major": 2,
       "version_minor": 0
      },
      "text/plain": [
       "HBox(children=(FloatProgress(value=0.0, max=124.0), HTML(value='')))"
      ]
     },
     "metadata": {},
     "output_type": "display_data"
    },
    {
     "name": "stdout",
     "output_type": "stream",
     "text": [
      "\n",
      "\n",
      "The best RMSE: 18.075 for fold 3 was achieved on epoch: 3.\n",
      "The Best saved model is: weights/crop_vit_large_patch32_384_3_epoch_f3_18.075_rmse.pth\n",
      "##################################################\n",
      "##################################################\n",
      "=============== TRAINING FOLD: 4/5 ===============\n"
     ]
    },
    {
     "data": {
      "application/vnd.jupyter.widget-view+json": {
       "model_id": "f016e5316ed74efd984120fe31ae3143",
       "version_major": 2,
       "version_minor": 0
      },
      "text/plain": [
       "HBox(children=(FloatProgress(value=0.0, max=496.0), HTML(value='')))"
      ]
     },
     "metadata": {},
     "output_type": "display_data"
    },
    {
     "name": "stdout",
     "output_type": "stream",
     "text": [
      "\n"
     ]
    },
    {
     "data": {
      "application/vnd.jupyter.widget-view+json": {
       "model_id": "a3711b0fbd174327972d29546c00350a",
       "version_major": 2,
       "version_minor": 0
      },
      "text/plain": [
       "HBox(children=(FloatProgress(value=0.0, max=124.0), HTML(value='')))"
      ]
     },
     "metadata": {},
     "output_type": "display_data"
    },
    {
     "name": "stdout",
     "output_type": "stream",
     "text": [
      "\n"
     ]
    },
    {
     "data": {
      "application/vnd.jupyter.widget-view+json": {
       "model_id": "ddd1adccb32644d4bbc9483b341d10ab",
       "version_major": 2,
       "version_minor": 0
      },
      "text/plain": [
       "HBox(children=(FloatProgress(value=0.0, max=496.0), HTML(value='')))"
      ]
     },
     "metadata": {},
     "output_type": "display_data"
    },
    {
     "name": "stdout",
     "output_type": "stream",
     "text": [
      "\n"
     ]
    },
    {
     "data": {
      "application/vnd.jupyter.widget-view+json": {
       "model_id": "53155cd4dc574e59abde335f09544583",
       "version_major": 2,
       "version_minor": 0
      },
      "text/plain": [
       "HBox(children=(FloatProgress(value=0.0, max=124.0), HTML(value='')))"
      ]
     },
     "metadata": {},
     "output_type": "display_data"
    },
    {
     "name": "stdout",
     "output_type": "stream",
     "text": [
      "\n"
     ]
    },
    {
     "data": {
      "application/vnd.jupyter.widget-view+json": {
       "model_id": "68d8d8b57c03489893d190ffb6af55af",
       "version_major": 2,
       "version_minor": 0
      },
      "text/plain": [
       "HBox(children=(FloatProgress(value=0.0, max=496.0), HTML(value='')))"
      ]
     },
     "metadata": {},
     "output_type": "display_data"
    },
    {
     "name": "stdout",
     "output_type": "stream",
     "text": [
      "\n"
     ]
    },
    {
     "data": {
      "application/vnd.jupyter.widget-view+json": {
       "model_id": "c9507e3bfff44e5cae3d540cf87ff18e",
       "version_major": 2,
       "version_minor": 0
      },
      "text/plain": [
       "HBox(children=(FloatProgress(value=0.0, max=124.0), HTML(value='')))"
      ]
     },
     "metadata": {},
     "output_type": "display_data"
    },
    {
     "name": "stdout",
     "output_type": "stream",
     "text": [
      "\n"
     ]
    },
    {
     "data": {
      "application/vnd.jupyter.widget-view+json": {
       "model_id": "7eda0d0b7e8e4ccb85e6c81f412d6563",
       "version_major": 2,
       "version_minor": 0
      },
      "text/plain": [
       "HBox(children=(FloatProgress(value=0.0, max=496.0), HTML(value='')))"
      ]
     },
     "metadata": {},
     "output_type": "display_data"
    },
    {
     "name": "stdout",
     "output_type": "stream",
     "text": [
      "\n"
     ]
    },
    {
     "data": {
      "application/vnd.jupyter.widget-view+json": {
       "model_id": "97a57d52f3474800a34f07d4772017db",
       "version_major": 2,
       "version_minor": 0
      },
      "text/plain": [
       "HBox(children=(FloatProgress(value=0.0, max=124.0), HTML(value='')))"
      ]
     },
     "metadata": {},
     "output_type": "display_data"
    },
    {
     "name": "stdout",
     "output_type": "stream",
     "text": [
      "\n"
     ]
    },
    {
     "data": {
      "application/vnd.jupyter.widget-view+json": {
       "model_id": "f01cfbb7139645408dac95bdcad4fa57",
       "version_major": 2,
       "version_minor": 0
      },
      "text/plain": [
       "HBox(children=(FloatProgress(value=0.0, max=496.0), HTML(value='')))"
      ]
     },
     "metadata": {},
     "output_type": "display_data"
    },
    {
     "name": "stdout",
     "output_type": "stream",
     "text": [
      "\n"
     ]
    },
    {
     "data": {
      "application/vnd.jupyter.widget-view+json": {
       "model_id": "38ab99b4cfa5446386754f9e0f5b555c",
       "version_major": 2,
       "version_minor": 0
      },
      "text/plain": [
       "HBox(children=(FloatProgress(value=0.0, max=124.0), HTML(value='')))"
      ]
     },
     "metadata": {},
     "output_type": "display_data"
    },
    {
     "name": "stdout",
     "output_type": "stream",
     "text": [
      "\n"
     ]
    },
    {
     "data": {
      "application/vnd.jupyter.widget-view+json": {
       "model_id": "7c3a3817e7594ca0aff7558f702be8a1",
       "version_major": 2,
       "version_minor": 0
      },
      "text/plain": [
       "HBox(children=(FloatProgress(value=0.0, max=496.0), HTML(value='')))"
      ]
     },
     "metadata": {},
     "output_type": "display_data"
    },
    {
     "name": "stdout",
     "output_type": "stream",
     "text": [
      "\n"
     ]
    },
    {
     "data": {
      "application/vnd.jupyter.widget-view+json": {
       "model_id": "09ccad9b59ac4af8adfab98875e4a0e9",
       "version_major": 2,
       "version_minor": 0
      },
      "text/plain": [
       "HBox(children=(FloatProgress(value=0.0, max=124.0), HTML(value='')))"
      ]
     },
     "metadata": {},
     "output_type": "display_data"
    },
    {
     "name": "stdout",
     "output_type": "stream",
     "text": [
      "\n"
     ]
    },
    {
     "data": {
      "application/vnd.jupyter.widget-view+json": {
       "model_id": "049fec5b58194676b06170d7ce3f0016",
       "version_major": 2,
       "version_minor": 0
      },
      "text/plain": [
       "HBox(children=(FloatProgress(value=0.0, max=496.0), HTML(value='')))"
      ]
     },
     "metadata": {},
     "output_type": "display_data"
    },
    {
     "name": "stdout",
     "output_type": "stream",
     "text": [
      "\n"
     ]
    },
    {
     "data": {
      "application/vnd.jupyter.widget-view+json": {
       "model_id": "c9474c579c3940dd87a471511f295e80",
       "version_major": 2,
       "version_minor": 0
      },
      "text/plain": [
       "HBox(children=(FloatProgress(value=0.0, max=124.0), HTML(value='')))"
      ]
     },
     "metadata": {},
     "output_type": "display_data"
    },
    {
     "name": "stdout",
     "output_type": "stream",
     "text": [
      "\n"
     ]
    },
    {
     "data": {
      "application/vnd.jupyter.widget-view+json": {
       "model_id": "4f55385181f344e1b4afd2bc5fed01ed",
       "version_major": 2,
       "version_minor": 0
      },
      "text/plain": [
       "HBox(children=(FloatProgress(value=0.0, max=496.0), HTML(value='')))"
      ]
     },
     "metadata": {},
     "output_type": "display_data"
    },
    {
     "name": "stdout",
     "output_type": "stream",
     "text": [
      "\n"
     ]
    },
    {
     "data": {
      "application/vnd.jupyter.widget-view+json": {
       "model_id": "0001e469bd914e86ae4d9f3b94be115c",
       "version_major": 2,
       "version_minor": 0
      },
      "text/plain": [
       "HBox(children=(FloatProgress(value=0.0, max=124.0), HTML(value='')))"
      ]
     },
     "metadata": {},
     "output_type": "display_data"
    },
    {
     "name": "stdout",
     "output_type": "stream",
     "text": [
      "\n"
     ]
    },
    {
     "data": {
      "application/vnd.jupyter.widget-view+json": {
       "model_id": "a9ccdae79e38430f8b0519ae5587b72b",
       "version_major": 2,
       "version_minor": 0
      },
      "text/plain": [
       "HBox(children=(FloatProgress(value=0.0, max=496.0), HTML(value='')))"
      ]
     },
     "metadata": {},
     "output_type": "display_data"
    },
    {
     "name": "stdout",
     "output_type": "stream",
     "text": [
      "\n"
     ]
    },
    {
     "data": {
      "application/vnd.jupyter.widget-view+json": {
       "model_id": "c24e37e5196b4dacb890c0fd57cd56ea",
       "version_major": 2,
       "version_minor": 0
      },
      "text/plain": [
       "HBox(children=(FloatProgress(value=0.0, max=124.0), HTML(value='')))"
      ]
     },
     "metadata": {},
     "output_type": "display_data"
    },
    {
     "name": "stdout",
     "output_type": "stream",
     "text": [
      "\n"
     ]
    },
    {
     "data": {
      "application/vnd.jupyter.widget-view+json": {
       "model_id": "2a3199b43c9d46e38f4a0ec55078378f",
       "version_major": 2,
       "version_minor": 0
      },
      "text/plain": [
       "HBox(children=(FloatProgress(value=0.0, max=496.0), HTML(value='')))"
      ]
     },
     "metadata": {},
     "output_type": "display_data"
    },
    {
     "name": "stdout",
     "output_type": "stream",
     "text": [
      "\n"
     ]
    },
    {
     "data": {
      "application/vnd.jupyter.widget-view+json": {
       "model_id": "6ecd03bf58f64e2fbaf7fc61720a1b5d",
       "version_major": 2,
       "version_minor": 0
      },
      "text/plain": [
       "HBox(children=(FloatProgress(value=0.0, max=124.0), HTML(value='')))"
      ]
     },
     "metadata": {},
     "output_type": "display_data"
    },
    {
     "name": "stdout",
     "output_type": "stream",
     "text": [
      "\n",
      "\n",
      "The best RMSE: 17.873 for fold 4 was achieved on epoch: 4.\n",
      "The Best saved model is: weights/crop_vit_large_patch32_384_4_epoch_f4_17.873_rmse.pth\n",
      "##################################################\n",
      "##################################################\n",
      "=============== TRAINING FOLD: 5/5 ===============\n"
     ]
    },
    {
     "data": {
      "application/vnd.jupyter.widget-view+json": {
       "model_id": "fef29ec5a131498eb977e3c1e13989ad",
       "version_major": 2,
       "version_minor": 0
      },
      "text/plain": [
       "HBox(children=(FloatProgress(value=0.0, max=496.0), HTML(value='')))"
      ]
     },
     "metadata": {},
     "output_type": "display_data"
    },
    {
     "name": "stdout",
     "output_type": "stream",
     "text": [
      "\n"
     ]
    },
    {
     "data": {
      "application/vnd.jupyter.widget-view+json": {
       "model_id": "586b289796634a88b9eccfc7c9ab0db8",
       "version_major": 2,
       "version_minor": 0
      },
      "text/plain": [
       "HBox(children=(FloatProgress(value=0.0, max=124.0), HTML(value='')))"
      ]
     },
     "metadata": {},
     "output_type": "display_data"
    },
    {
     "name": "stdout",
     "output_type": "stream",
     "text": [
      "\n"
     ]
    },
    {
     "data": {
      "application/vnd.jupyter.widget-view+json": {
       "model_id": "f046702b5fac4e80838dd979c6129d05",
       "version_major": 2,
       "version_minor": 0
      },
      "text/plain": [
       "HBox(children=(FloatProgress(value=0.0, max=496.0), HTML(value='')))"
      ]
     },
     "metadata": {},
     "output_type": "display_data"
    },
    {
     "name": "stdout",
     "output_type": "stream",
     "text": [
      "\n"
     ]
    },
    {
     "data": {
      "application/vnd.jupyter.widget-view+json": {
       "model_id": "4b1eef5a376441edb79854ec94f81be1",
       "version_major": 2,
       "version_minor": 0
      },
      "text/plain": [
       "HBox(children=(FloatProgress(value=0.0, max=124.0), HTML(value='')))"
      ]
     },
     "metadata": {},
     "output_type": "display_data"
    },
    {
     "name": "stdout",
     "output_type": "stream",
     "text": [
      "\n"
     ]
    },
    {
     "data": {
      "application/vnd.jupyter.widget-view+json": {
       "model_id": "78d24dcdedd5464993589eebd00785f4",
       "version_major": 2,
       "version_minor": 0
      },
      "text/plain": [
       "HBox(children=(FloatProgress(value=0.0, max=496.0), HTML(value='')))"
      ]
     },
     "metadata": {},
     "output_type": "display_data"
    },
    {
     "name": "stdout",
     "output_type": "stream",
     "text": [
      "\n"
     ]
    },
    {
     "data": {
      "application/vnd.jupyter.widget-view+json": {
       "model_id": "d40d8ebb1a9041d4b05a1d77a7f51e24",
       "version_major": 2,
       "version_minor": 0
      },
      "text/plain": [
       "HBox(children=(FloatProgress(value=0.0, max=124.0), HTML(value='')))"
      ]
     },
     "metadata": {},
     "output_type": "display_data"
    },
    {
     "name": "stdout",
     "output_type": "stream",
     "text": [
      "\n"
     ]
    },
    {
     "data": {
      "application/vnd.jupyter.widget-view+json": {
       "model_id": "45320b25154b41c993820b5a41758f80",
       "version_major": 2,
       "version_minor": 0
      },
      "text/plain": [
       "HBox(children=(FloatProgress(value=0.0, max=496.0), HTML(value='')))"
      ]
     },
     "metadata": {},
     "output_type": "display_data"
    },
    {
     "name": "stdout",
     "output_type": "stream",
     "text": [
      "\n"
     ]
    },
    {
     "data": {
      "application/vnd.jupyter.widget-view+json": {
       "model_id": "102f5e6d37204e889e07fe9fdd5edbdf",
       "version_major": 2,
       "version_minor": 0
      },
      "text/plain": [
       "HBox(children=(FloatProgress(value=0.0, max=124.0), HTML(value='')))"
      ]
     },
     "metadata": {},
     "output_type": "display_data"
    },
    {
     "name": "stdout",
     "output_type": "stream",
     "text": [
      "\n"
     ]
    },
    {
     "data": {
      "application/vnd.jupyter.widget-view+json": {
       "model_id": "d76392f59955468b8d744a0160b0b59b",
       "version_major": 2,
       "version_minor": 0
      },
      "text/plain": [
       "HBox(children=(FloatProgress(value=0.0, max=496.0), HTML(value='')))"
      ]
     },
     "metadata": {},
     "output_type": "display_data"
    },
    {
     "name": "stdout",
     "output_type": "stream",
     "text": [
      "\n"
     ]
    },
    {
     "data": {
      "application/vnd.jupyter.widget-view+json": {
       "model_id": "8c51c645327f4557a49f37d2ffaf26f7",
       "version_major": 2,
       "version_minor": 0
      },
      "text/plain": [
       "HBox(children=(FloatProgress(value=0.0, max=124.0), HTML(value='')))"
      ]
     },
     "metadata": {},
     "output_type": "display_data"
    },
    {
     "name": "stdout",
     "output_type": "stream",
     "text": [
      "\n"
     ]
    },
    {
     "data": {
      "application/vnd.jupyter.widget-view+json": {
       "model_id": "361e6e4122d646aab8d1a389b70f6ab5",
       "version_major": 2,
       "version_minor": 0
      },
      "text/plain": [
       "HBox(children=(FloatProgress(value=0.0, max=496.0), HTML(value='')))"
      ]
     },
     "metadata": {},
     "output_type": "display_data"
    },
    {
     "name": "stdout",
     "output_type": "stream",
     "text": [
      "\n"
     ]
    },
    {
     "data": {
      "application/vnd.jupyter.widget-view+json": {
       "model_id": "ac4ba68257fc4a3ebba8992c138d1267",
       "version_major": 2,
       "version_minor": 0
      },
      "text/plain": [
       "HBox(children=(FloatProgress(value=0.0, max=124.0), HTML(value='')))"
      ]
     },
     "metadata": {},
     "output_type": "display_data"
    },
    {
     "name": "stdout",
     "output_type": "stream",
     "text": [
      "\n"
     ]
    },
    {
     "data": {
      "application/vnd.jupyter.widget-view+json": {
       "model_id": "62ed51d90462436886a7f290d71db912",
       "version_major": 2,
       "version_minor": 0
      },
      "text/plain": [
       "HBox(children=(FloatProgress(value=0.0, max=496.0), HTML(value='')))"
      ]
     },
     "metadata": {},
     "output_type": "display_data"
    },
    {
     "name": "stdout",
     "output_type": "stream",
     "text": [
      "\n"
     ]
    },
    {
     "data": {
      "application/vnd.jupyter.widget-view+json": {
       "model_id": "4c9a9a3fac1d4d91aba974eddb2880d1",
       "version_major": 2,
       "version_minor": 0
      },
      "text/plain": [
       "HBox(children=(FloatProgress(value=0.0, max=124.0), HTML(value='')))"
      ]
     },
     "metadata": {},
     "output_type": "display_data"
    },
    {
     "name": "stdout",
     "output_type": "stream",
     "text": [
      "\n"
     ]
    },
    {
     "data": {
      "application/vnd.jupyter.widget-view+json": {
       "model_id": "7996588cdde34a88a5c48669288f2224",
       "version_major": 2,
       "version_minor": 0
      },
      "text/plain": [
       "HBox(children=(FloatProgress(value=0.0, max=496.0), HTML(value='')))"
      ]
     },
     "metadata": {},
     "output_type": "display_data"
    },
    {
     "name": "stdout",
     "output_type": "stream",
     "text": [
      "\n"
     ]
    },
    {
     "data": {
      "application/vnd.jupyter.widget-view+json": {
       "model_id": "277f08715f6d4cfa84b3e4a20e3d0fdb",
       "version_major": 2,
       "version_minor": 0
      },
      "text/plain": [
       "HBox(children=(FloatProgress(value=0.0, max=124.0), HTML(value='')))"
      ]
     },
     "metadata": {},
     "output_type": "display_data"
    },
    {
     "name": "stdout",
     "output_type": "stream",
     "text": [
      "\n"
     ]
    },
    {
     "data": {
      "application/vnd.jupyter.widget-view+json": {
       "model_id": "8323d382af4742c59a23272b7332bccd",
       "version_major": 2,
       "version_minor": 0
      },
      "text/plain": [
       "HBox(children=(FloatProgress(value=0.0, max=496.0), HTML(value='')))"
      ]
     },
     "metadata": {},
     "output_type": "display_data"
    },
    {
     "name": "stdout",
     "output_type": "stream",
     "text": [
      "\n"
     ]
    },
    {
     "data": {
      "application/vnd.jupyter.widget-view+json": {
       "model_id": "acffd34a2ff44d349e329d81517b895d",
       "version_major": 2,
       "version_minor": 0
      },
      "text/plain": [
       "HBox(children=(FloatProgress(value=0.0, max=124.0), HTML(value='')))"
      ]
     },
     "metadata": {},
     "output_type": "display_data"
    },
    {
     "name": "stdout",
     "output_type": "stream",
     "text": [
      "\n"
     ]
    },
    {
     "data": {
      "application/vnd.jupyter.widget-view+json": {
       "model_id": "c0e5cfd8caed40dbaeb24a7f0b2afe27",
       "version_major": 2,
       "version_minor": 0
      },
      "text/plain": [
       "HBox(children=(FloatProgress(value=0.0, max=496.0), HTML(value='')))"
      ]
     },
     "metadata": {},
     "output_type": "display_data"
    },
    {
     "name": "stdout",
     "output_type": "stream",
     "text": [
      "\n"
     ]
    },
    {
     "data": {
      "application/vnd.jupyter.widget-view+json": {
       "model_id": "b846e4d77709459b85b6a44b70a2d18b",
       "version_major": 2,
       "version_minor": 0
      },
      "text/plain": [
       "HBox(children=(FloatProgress(value=0.0, max=124.0), HTML(value='')))"
      ]
     },
     "metadata": {},
     "output_type": "display_data"
    },
    {
     "name": "stdout",
     "output_type": "stream",
     "text": [
      "\n",
      "\n",
      "The best RMSE: 18.08 for fold 5 was achieved on epoch: 4.\n",
      "The Best saved model is: weights/crop_vit_large_patch32_384_4_epoch_f5_18.08_rmse.pth\n",
      "##################################################\n",
      "##################################################\n",
      "=============== TRAINING FOLD: 6/5 ===============\n"
     ]
    },
    {
     "data": {
      "application/vnd.jupyter.widget-view+json": {
       "model_id": "db4385e516f64c758bd4bc5439c9a85a",
       "version_major": 2,
       "version_minor": 0
      },
      "text/plain": [
       "HBox(children=(FloatProgress(value=0.0, max=620.0), HTML(value='')))"
      ]
     },
     "metadata": {},
     "output_type": "display_data"
    },
    {
     "name": "stdout",
     "output_type": "stream",
     "text": [
      "\n"
     ]
    },
    {
     "data": {
      "application/vnd.jupyter.widget-view+json": {
       "model_id": "268ae0be4c9e418b8bdf3bcc1ac5310f",
       "version_major": 2,
       "version_minor": 0
      },
      "text/plain": [
       "HBox(children=(FloatProgress(value=1.0, bar_style='info', layout=Layout(width='20px'), max=1.0), HTML(value=''…"
      ]
     },
     "metadata": {},
     "output_type": "display_data"
    },
    {
     "name": "stdout",
     "output_type": "stream",
     "text": [
      "\n"
     ]
    },
    {
     "ename": "ValueError",
     "evalue": "Found array with 0 sample(s) (shape=(0,)) while a minimum of 1 is required.",
     "output_type": "error",
     "traceback": [
      "\u001b[0;31m---------------------------------------------------------------------------\u001b[0m",
      "\u001b[0;31mValueError\u001b[0m                                Traceback (most recent call last)",
      "\u001b[0;32m<ipython-input-27-8a0bcc689d15>\u001b[0m in \u001b[0;36m<module>\u001b[0;34m\u001b[0m\n\u001b[1;32m     64\u001b[0m         \u001b[0mtrain_fn\u001b[0m\u001b[0;34m(\u001b[0m\u001b[0mtrain_loader\u001b[0m\u001b[0;34m,\u001b[0m \u001b[0mmodel\u001b[0m\u001b[0;34m,\u001b[0m \u001b[0mcriterion\u001b[0m\u001b[0;34m,\u001b[0m \u001b[0moptimizer\u001b[0m\u001b[0;34m,\u001b[0m \u001b[0mepoch\u001b[0m\u001b[0;34m,\u001b[0m \u001b[0mparams\u001b[0m\u001b[0;34m,\u001b[0m \u001b[0mscheduler\u001b[0m\u001b[0;34m)\u001b[0m\u001b[0;34m\u001b[0m\u001b[0;34m\u001b[0m\u001b[0m\n\u001b[1;32m     65\u001b[0m         \u001b[0mpredictions\u001b[0m\u001b[0;34m,\u001b[0m \u001b[0mvalid_targets\u001b[0m \u001b[0;34m=\u001b[0m \u001b[0mvalidate_fn\u001b[0m\u001b[0;34m(\u001b[0m\u001b[0mval_loader\u001b[0m\u001b[0;34m,\u001b[0m \u001b[0mmodel\u001b[0m\u001b[0;34m,\u001b[0m \u001b[0mcriterion\u001b[0m\u001b[0;34m,\u001b[0m \u001b[0mepoch\u001b[0m\u001b[0;34m,\u001b[0m \u001b[0mparams\u001b[0m\u001b[0;34m)\u001b[0m\u001b[0;34m\u001b[0m\u001b[0;34m\u001b[0m\u001b[0m\n\u001b[0;32m---> 66\u001b[0;31m         \u001b[0mrmse\u001b[0m \u001b[0;34m=\u001b[0m \u001b[0mround\u001b[0m\u001b[0;34m(\u001b[0m\u001b[0mmean_squared_error\u001b[0m\u001b[0;34m(\u001b[0m\u001b[0mvalid_targets\u001b[0m\u001b[0;34m,\u001b[0m \u001b[0mpredictions\u001b[0m\u001b[0;34m,\u001b[0m \u001b[0msquared\u001b[0m\u001b[0;34m=\u001b[0m\u001b[0;32mFalse\u001b[0m\u001b[0;34m)\u001b[0m\u001b[0;34m,\u001b[0m \u001b[0;36m3\u001b[0m\u001b[0;34m)\u001b[0m\u001b[0;34m\u001b[0m\u001b[0;34m\u001b[0m\u001b[0m\n\u001b[0m\u001b[1;32m     67\u001b[0m         \u001b[0;32mif\u001b[0m \u001b[0mrmse\u001b[0m \u001b[0;34m<\u001b[0m \u001b[0mbest_rmse\u001b[0m\u001b[0;34m:\u001b[0m\u001b[0;34m\u001b[0m\u001b[0;34m\u001b[0m\u001b[0m\n\u001b[1;32m     68\u001b[0m             \u001b[0mbest_rmse\u001b[0m \u001b[0;34m=\u001b[0m \u001b[0mrmse\u001b[0m\u001b[0;34m\u001b[0m\u001b[0;34m\u001b[0m\u001b[0m\n",
      "\u001b[0;32m~/anaconda3/envs/tensorflow/lib/python3.6/site-packages/sklearn/utils/validation.py\u001b[0m in \u001b[0;36minner_f\u001b[0;34m(*args, **kwargs)\u001b[0m\n\u001b[1;32m     61\u001b[0m             \u001b[0mextra_args\u001b[0m \u001b[0;34m=\u001b[0m \u001b[0mlen\u001b[0m\u001b[0;34m(\u001b[0m\u001b[0margs\u001b[0m\u001b[0;34m)\u001b[0m \u001b[0;34m-\u001b[0m \u001b[0mlen\u001b[0m\u001b[0;34m(\u001b[0m\u001b[0mall_args\u001b[0m\u001b[0;34m)\u001b[0m\u001b[0;34m\u001b[0m\u001b[0;34m\u001b[0m\u001b[0m\n\u001b[1;32m     62\u001b[0m             \u001b[0;32mif\u001b[0m \u001b[0mextra_args\u001b[0m \u001b[0;34m<=\u001b[0m \u001b[0;36m0\u001b[0m\u001b[0;34m:\u001b[0m\u001b[0;34m\u001b[0m\u001b[0;34m\u001b[0m\u001b[0m\n\u001b[0;32m---> 63\u001b[0;31m                 \u001b[0;32mreturn\u001b[0m \u001b[0mf\u001b[0m\u001b[0;34m(\u001b[0m\u001b[0;34m*\u001b[0m\u001b[0margs\u001b[0m\u001b[0;34m,\u001b[0m \u001b[0;34m**\u001b[0m\u001b[0mkwargs\u001b[0m\u001b[0;34m)\u001b[0m\u001b[0;34m\u001b[0m\u001b[0;34m\u001b[0m\u001b[0m\n\u001b[0m\u001b[1;32m     64\u001b[0m \u001b[0;34m\u001b[0m\u001b[0m\n\u001b[1;32m     65\u001b[0m             \u001b[0;31m# extra_args > 0\u001b[0m\u001b[0;34m\u001b[0m\u001b[0;34m\u001b[0m\u001b[0;34m\u001b[0m\u001b[0m\n",
      "\u001b[0;32m~/anaconda3/envs/tensorflow/lib/python3.6/site-packages/sklearn/metrics/_regression.py\u001b[0m in \u001b[0;36mmean_squared_error\u001b[0;34m(y_true, y_pred, sample_weight, multioutput, squared)\u001b[0m\n\u001b[1;32m    334\u001b[0m     \"\"\"\n\u001b[1;32m    335\u001b[0m     y_type, y_true, y_pred, multioutput = _check_reg_targets(\n\u001b[0;32m--> 336\u001b[0;31m         y_true, y_pred, multioutput)\n\u001b[0m\u001b[1;32m    337\u001b[0m     \u001b[0mcheck_consistent_length\u001b[0m\u001b[0;34m(\u001b[0m\u001b[0my_true\u001b[0m\u001b[0;34m,\u001b[0m \u001b[0my_pred\u001b[0m\u001b[0;34m,\u001b[0m \u001b[0msample_weight\u001b[0m\u001b[0;34m)\u001b[0m\u001b[0;34m\u001b[0m\u001b[0;34m\u001b[0m\u001b[0m\n\u001b[1;32m    338\u001b[0m     output_errors = np.average((y_true - y_pred) ** 2, axis=0,\n",
      "\u001b[0;32m~/anaconda3/envs/tensorflow/lib/python3.6/site-packages/sklearn/metrics/_regression.py\u001b[0m in \u001b[0;36m_check_reg_targets\u001b[0;34m(y_true, y_pred, multioutput, dtype)\u001b[0m\n\u001b[1;32m     87\u001b[0m     \"\"\"\n\u001b[1;32m     88\u001b[0m     \u001b[0mcheck_consistent_length\u001b[0m\u001b[0;34m(\u001b[0m\u001b[0my_true\u001b[0m\u001b[0;34m,\u001b[0m \u001b[0my_pred\u001b[0m\u001b[0;34m)\u001b[0m\u001b[0;34m\u001b[0m\u001b[0;34m\u001b[0m\u001b[0m\n\u001b[0;32m---> 89\u001b[0;31m     \u001b[0my_true\u001b[0m \u001b[0;34m=\u001b[0m \u001b[0mcheck_array\u001b[0m\u001b[0;34m(\u001b[0m\u001b[0my_true\u001b[0m\u001b[0;34m,\u001b[0m \u001b[0mensure_2d\u001b[0m\u001b[0;34m=\u001b[0m\u001b[0;32mFalse\u001b[0m\u001b[0;34m,\u001b[0m \u001b[0mdtype\u001b[0m\u001b[0;34m=\u001b[0m\u001b[0mdtype\u001b[0m\u001b[0;34m)\u001b[0m\u001b[0;34m\u001b[0m\u001b[0;34m\u001b[0m\u001b[0m\n\u001b[0m\u001b[1;32m     90\u001b[0m     \u001b[0my_pred\u001b[0m \u001b[0;34m=\u001b[0m \u001b[0mcheck_array\u001b[0m\u001b[0;34m(\u001b[0m\u001b[0my_pred\u001b[0m\u001b[0;34m,\u001b[0m \u001b[0mensure_2d\u001b[0m\u001b[0;34m=\u001b[0m\u001b[0;32mFalse\u001b[0m\u001b[0;34m,\u001b[0m \u001b[0mdtype\u001b[0m\u001b[0;34m=\u001b[0m\u001b[0mdtype\u001b[0m\u001b[0;34m)\u001b[0m\u001b[0;34m\u001b[0m\u001b[0;34m\u001b[0m\u001b[0m\n\u001b[1;32m     91\u001b[0m \u001b[0;34m\u001b[0m\u001b[0m\n",
      "\u001b[0;32m~/anaconda3/envs/tensorflow/lib/python3.6/site-packages/sklearn/utils/validation.py\u001b[0m in \u001b[0;36minner_f\u001b[0;34m(*args, **kwargs)\u001b[0m\n\u001b[1;32m     61\u001b[0m             \u001b[0mextra_args\u001b[0m \u001b[0;34m=\u001b[0m \u001b[0mlen\u001b[0m\u001b[0;34m(\u001b[0m\u001b[0margs\u001b[0m\u001b[0;34m)\u001b[0m \u001b[0;34m-\u001b[0m \u001b[0mlen\u001b[0m\u001b[0;34m(\u001b[0m\u001b[0mall_args\u001b[0m\u001b[0;34m)\u001b[0m\u001b[0;34m\u001b[0m\u001b[0;34m\u001b[0m\u001b[0m\n\u001b[1;32m     62\u001b[0m             \u001b[0;32mif\u001b[0m \u001b[0mextra_args\u001b[0m \u001b[0;34m<=\u001b[0m \u001b[0;36m0\u001b[0m\u001b[0;34m:\u001b[0m\u001b[0;34m\u001b[0m\u001b[0;34m\u001b[0m\u001b[0m\n\u001b[0;32m---> 63\u001b[0;31m                 \u001b[0;32mreturn\u001b[0m \u001b[0mf\u001b[0m\u001b[0;34m(\u001b[0m\u001b[0;34m*\u001b[0m\u001b[0margs\u001b[0m\u001b[0;34m,\u001b[0m \u001b[0;34m**\u001b[0m\u001b[0mkwargs\u001b[0m\u001b[0;34m)\u001b[0m\u001b[0;34m\u001b[0m\u001b[0;34m\u001b[0m\u001b[0m\n\u001b[0m\u001b[1;32m     64\u001b[0m \u001b[0;34m\u001b[0m\u001b[0m\n\u001b[1;32m     65\u001b[0m             \u001b[0;31m# extra_args > 0\u001b[0m\u001b[0;34m\u001b[0m\u001b[0;34m\u001b[0m\u001b[0;34m\u001b[0m\u001b[0m\n",
      "\u001b[0;32m~/anaconda3/envs/tensorflow/lib/python3.6/site-packages/sklearn/utils/validation.py\u001b[0m in \u001b[0;36mcheck_array\u001b[0;34m(array, accept_sparse, accept_large_sparse, dtype, order, copy, force_all_finite, ensure_2d, allow_nd, ensure_min_samples, ensure_min_features, estimator)\u001b[0m\n\u001b[1;32m    670\u001b[0m                              \u001b[0;34m\" minimum of %d is required%s.\"\u001b[0m\u001b[0;34m\u001b[0m\u001b[0;34m\u001b[0m\u001b[0m\n\u001b[1;32m    671\u001b[0m                              % (n_samples, array.shape, ensure_min_samples,\n\u001b[0;32m--> 672\u001b[0;31m                                 context))\n\u001b[0m\u001b[1;32m    673\u001b[0m \u001b[0;34m\u001b[0m\u001b[0m\n\u001b[1;32m    674\u001b[0m     \u001b[0;32mif\u001b[0m \u001b[0mensure_min_features\u001b[0m \u001b[0;34m>\u001b[0m \u001b[0;36m0\u001b[0m \u001b[0;32mand\u001b[0m \u001b[0marray\u001b[0m\u001b[0;34m.\u001b[0m\u001b[0mndim\u001b[0m \u001b[0;34m==\u001b[0m \u001b[0;36m2\u001b[0m\u001b[0;34m:\u001b[0m\u001b[0;34m\u001b[0m\u001b[0;34m\u001b[0m\u001b[0m\n",
      "\u001b[0;31mValueError\u001b[0m: Found array with 0 sample(s) (shape=(0,)) while a minimum of 1 is required."
     ]
    }
   ],
   "source": [
    "for fold in TRAIN_FOLDS:\n",
    "    print(''.join(['#']*50))\n",
    "    print(f\"{''.join(['=']*15)} TRAINING FOLD: {fold+1}/{train_df['kfold'].nunique()} {''.join(['=']*15)}\")\n",
    "    # Data Split to train and Validation\n",
    "    train = train_df[train_df['kfold'] != fold]\n",
    "    valid = train_df[train_df['kfold'] == fold]\n",
    "    \n",
    "    X_train = train['image_path']\n",
    "    X_train_dense = train[params['dense_features']]\n",
    "    y_train = train['Pawpularity']/100\n",
    "    X_valid = valid['image_path']\n",
    "    X_valid_dense = valid[params['dense_features']]\n",
    "    y_valid = valid['Pawpularity']/100\n",
    "    \n",
    "    # Pytorch Dataset Creation\n",
    "    train_dataset = CuteDataset(\n",
    "        images_filepaths=X_train.values,\n",
    "        dense_features=X_train_dense.values,\n",
    "        targets=y_train.values,\n",
    "        transform=get_train_transforms(0)\n",
    "    )\n",
    "\n",
    "    valid_dataset = CuteDataset(\n",
    "        images_filepaths=X_valid.values,\n",
    "        dense_features=X_valid_dense.values,\n",
    "        targets=y_valid.values,\n",
    "        #transform=get_valid_transforms(),\n",
    "        transform=get_inference_fixed_transforms(),\n",
    "        \n",
    "    )\n",
    "    \n",
    "    # Pytorch Dataloader creation\n",
    "    train_loader = DataLoader(\n",
    "        train_dataset, batch_size=params['batch_size'], shuffle=True,\n",
    "        num_workers=params['num_workers'], pin_memory=True\n",
    "        )\n",
    "\n",
    "    val_loader = DataLoader(\n",
    "        valid_dataset, batch_size=params['batch_size'], shuffle=False,\n",
    "        num_workers=params['num_workers'], pin_memory=True\n",
    "        )\n",
    "    \n",
    "    # Model, cost function and optimizer instancing\n",
    "    model = PetNet()\n",
    "    #model = replace_activations(model, torch.nn.SiLU, Mish())\n",
    "    if params['multi-gpu'] == True:\n",
    "        model = nn.DataParallel(model) #for multi-gpu processing\n",
    "    else:\n",
    "        pass\n",
    "    \n",
    "    model = model.to(params['device'])\n",
    "    criterion = nn.BCEWithLogitsLoss()\n",
    "    #optimizer = Ranger(model.parameters(), lr = params['lr'])\n",
    "    optimizer = torch.optim.AdamW(model.parameters(), lr=params['lr'],\n",
    "                                  weight_decay=params['weight_decay'],\n",
    "                                  amsgrad=False)\n",
    "    scheduler = get_scheduler(optimizer)\n",
    "    \n",
    "    # Training and Validation Loop\n",
    "    best_rmse = np.inf\n",
    "    best_epoch = np.inf\n",
    "    best_model_name = None\n",
    "    for epoch in range(1, params['epochs'] + 1):\n",
    "        train_fn(train_loader, model, criterion, optimizer, epoch, params, scheduler)\n",
    "        predictions, valid_targets = validate_fn(val_loader, model, criterion, epoch, params)\n",
    "        rmse = round(mean_squared_error(valid_targets, predictions, squared=False), 3)\n",
    "        if rmse < best_rmse:\n",
    "            best_rmse = rmse\n",
    "            best_epoch = epoch\n",
    "            if best_model_name is not None:\n",
    "                os.remove(best_model_name)\n",
    "            torch.save(model.state_dict(),\n",
    "                       f\"weights/crop_{params['model']}_{epoch}_epoch_f{fold+1}_{rmse}_rmse.pth\")\n",
    "            best_model_name = f\"weights/crop_{params['model']}_{epoch}_epoch_f{fold+1}_{rmse}_rmse.pth\"\n",
    "\n",
    "    # Print summary of this fold\n",
    "    print('')\n",
    "    print(f'The best RMSE: {best_rmse} for fold {fold+1} was achieved on epoch: {best_epoch}.')\n",
    "    print(f'The Best saved model is: {best_model_name}')\n",
    "    best_models_of_each_fold.append(best_model_name)\n",
    "    rmse_tracker.append(best_rmse)\n",
    "    print(''.join(['#']*50))\n",
    "    del model\n",
    "    gc.collect()\n",
    "    torch.cuda.empty_cache()\n",
    "\n",
    "print('')\n",
    "print(f'Average RMSE of all folds: {round(np.mean(rmse_tracker), 4)}')"
   ]
  },
  {
   "cell_type": "code",
   "execution_count": 28,
   "id": "joint-maryland",
   "metadata": {},
   "outputs": [
    {
     "name": "stdout",
     "output_type": "stream",
     "text": [
      "Best model of fold 1: weights/crop_vit_large_patch32_384_4_epoch_f1_17.9_rmse.pth\n",
      "Best model of fold 2: weights/crop_vit_large_patch32_384_3_epoch_f2_18.361_rmse.pth\n",
      "Best model of fold 3: weights/crop_vit_large_patch32_384_3_epoch_f3_18.075_rmse.pth\n",
      "Best model of fold 4: weights/crop_vit_large_patch32_384_4_epoch_f4_17.873_rmse.pth\n",
      "Best model of fold 5: weights/crop_vit_large_patch32_384_4_epoch_f5_18.08_rmse.pth\n"
     ]
    }
   ],
   "source": [
    "for i, name in enumerate(best_models_of_each_fold):\n",
    "    print(f'Best model of fold {i+1}: {name}')"
   ]
  },
  {
   "cell_type": "code",
   "execution_count": 29,
   "id": "iraqi-craps",
   "metadata": {},
   "outputs": [
    {
     "data": {
      "text/plain": [
       "18.0578"
      ]
     },
     "execution_count": 29,
     "metadata": {},
     "output_type": "execute_result"
    }
   ],
   "source": [
    "np.mean([np.float(x.split('_')[-2]) for x in best_models_of_each_fold])"
   ]
  },
  {
   "cell_type": "code",
   "execution_count": null,
   "id": "vanilla-special",
   "metadata": {},
   "outputs": [],
   "source": []
  }
 ],
 "metadata": {
  "kernelspec": {
   "display_name": "Python 3",
   "language": "python",
   "name": "python3"
  },
  "language_info": {
   "codemirror_mode": {
    "name": "ipython",
    "version": 3
   },
   "file_extension": ".py",
   "mimetype": "text/x-python",
   "name": "python",
   "nbconvert_exporter": "python",
   "pygments_lexer": "ipython3",
   "version": "3.6.10"
  }
 },
 "nbformat": 4,
 "nbformat_minor": 5
}
